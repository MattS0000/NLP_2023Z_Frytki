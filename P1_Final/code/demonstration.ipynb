{
 "cells": [
  {
   "cell_type": "code",
   "execution_count": 14,
   "metadata": {},
   "outputs": [],
   "source": [
    "from training.pretrained_bert import PretrainedBert\n",
    "from training.pretrained_distil_bert import PretrainedDistilBert\n",
    "from tests.similarity import item_comparison\n",
    "from comparison.product_comparator import ProductComparator\n",
    "from preprocessing.dataset_loader import PletsDataset\n",
    "import numpy as np\n",
    "from torch.utils.data import DataLoader\n",
    "from evaluation.hierarchial_metric import HierachialMetric\n",
    "import pandas as pd\n",
    "import seaborn as sns\n",
    "import matplotlib.pyplot as plt"
   ]
  },
  {
   "cell_type": "markdown",
   "metadata": {},
   "source": [
    "## Demonstration of raw embedding comparison\n",
    "Results of running the product comparison algorithm on abstract test.   \n",
    "This part only uses the last two steps of the pipeline, that is embedding generation (in this case, based on a pretrained model) and embedding similarity calculation.  \n",
    "Both the value of similarity metric and the execution time will be measured."
   ]
  },
  {
   "cell_type": "markdown",
   "metadata": {},
   "source": [
    "### Bert"
   ]
  },
  {
   "cell_type": "code",
   "execution_count": 15,
   "metadata": {},
   "outputs": [
    {
     "name": "stdout",
     "output_type": "stream",
     "text": [
      "######## Comparison ########\n",
      "# Red apple                #\n",
      "# Green apple              #\n",
      "############################\n",
      "# Similarity: 0.99615      #\n",
      "# Execution time: 36.74ms  #\n",
      "############################\n",
      "\n",
      "######## Comparison ########\n",
      "# Red apple                #\n",
      "# Lemon                    #\n",
      "############################\n",
      "# Similarity: 0.98853      #\n",
      "# Execution time: 36.37ms  #\n",
      "############################\n",
      "\n",
      "######## Comparison ########\n",
      "# Red apple                #\n",
      "# Brick                    #\n",
      "############################\n",
      "# Similarity: 0.98222      #\n",
      "# Execution time: 36.72ms  #\n",
      "############################\n",
      "\n",
      "############ Comparison ############\n",
      "# Red apple                        #\n",
      "# Warsaw University of Technology  #\n",
      "####################################\n",
      "# Similarity: 0.96787              #\n",
      "# Execution time: 36.10ms          #\n",
      "####################################\n",
      "\n"
     ]
    }
   ],
   "source": [
    "model = ProductComparator(PretrainedBert().train())\n",
    "item_comparison(model, \"Red apple\", \"Green apple\")\n",
    "item_comparison(model, \"Red apple\", \"Lemon\")\n",
    "item_comparison(model, \"Red apple\", \"Brick\")\n",
    "item_comparison(model, \"Red apple\", \"Warsaw University of Technology\")"
   ]
  },
  {
   "cell_type": "markdown",
   "metadata": {},
   "source": [
    "### DistilBert"
   ]
  },
  {
   "cell_type": "code",
   "execution_count": 16,
   "metadata": {},
   "outputs": [
    {
     "name": "stdout",
     "output_type": "stream",
     "text": [
      "######## Comparison ########\n",
      "# Red apple                #\n",
      "# Green apple              #\n",
      "############################\n",
      "# Similarity: 0.99838      #\n",
      "# Execution time: 18.22ms  #\n",
      "############################\n",
      "\n",
      "######## Comparison ########\n",
      "# Red apple                #\n",
      "# Lemon                    #\n",
      "############################\n",
      "# Similarity: 0.99120      #\n",
      "# Execution time: 17.93ms  #\n",
      "############################\n",
      "\n",
      "######## Comparison ########\n",
      "# Red apple                #\n",
      "# Brick                    #\n",
      "############################\n",
      "# Similarity: 0.99088      #\n",
      "# Execution time: 17.83ms  #\n",
      "############################\n",
      "\n",
      "############ Comparison ############\n",
      "# Red apple                        #\n",
      "# Warsaw University of Technology  #\n",
      "####################################\n",
      "# Similarity: 0.97690              #\n",
      "# Execution time: 18.35ms          #\n",
      "####################################\n",
      "\n"
     ]
    }
   ],
   "source": [
    "model = ProductComparator(PretrainedDistilBert().train())\n",
    "item_comparison(model, \"Red apple\", \"Green apple\")\n",
    "item_comparison(model, \"Red apple\", \"Lemon\")\n",
    "item_comparison(model, \"Red apple\", \"Brick\")\n",
    "item_comparison(model, \"Red apple\", \"Warsaw University of Technology\")"
   ]
  },
  {
   "cell_type": "markdown",
   "metadata": {},
   "source": [
    "...info about results, explanation what happened, times and so on"
   ]
  },
  {
   "cell_type": "markdown",
   "metadata": {},
   "source": [
    "## Demonstration of feature extraction\n",
    "...using the preprocessed dataset"
   ]
  },
  {
   "cell_type": "code",
   "execution_count": 17,
   "metadata": {},
   "outputs": [
    {
     "name": "stdout",
     "output_type": "stream",
     "text": [
      "[BASE]\n",
      "\"Intel Xeon 5130 DL140 G3 2.0GHz Quad-Core Processor - 4MB Cache, 65W TDP, Full Processor Option Kit - Part Number: 417772 B21\"\n",
      "\n",
      "This representation includes the following relevant features and attributes:\n",
      "\n",
      "* Brand: Intel\n",
      "* Model: Xeon 5130\n",
      "* Speed: 2.0GHz\n",
      "* Cores: Quad-core\n",
      "* Cache: 4MB\n",
      "* Thermal Design Power (TDP): 65W\n",
      "* Processor Type: Full Processor Option Kit\n",
      "* Part Number: 417772 B21\n",
      "\n",
      "[SIMILAR]\n",
      "\"Intel Xeon 5130 2GHz 4MB L2 Processor - HP\n",
      "\n",
      "* Intel Xeon 5000 sequence\n",
      "* 2 GHz processor frequency\n",
      "* LGA 771 socket J\n",
      "* 65nm 64-bit technology\n",
      "* 291M transistors\n",
      "* 143mm processing die size\n",
      "* Thermal Design Power (TDP): 65W\n",
      "* Supports Intel Virtualization Technology (VT)\n",
      "* Enhanced Intel SpeedStep Technology\n",
      "* Execute Disable Bit\n",
      "* Idle States: C0, C1, C2...\n",
      "* On-die digital thermal sensor\n",
      "* Protective thermal management features\n",
      "\n",
      "[DIFFERENT]\n",
      "\"Intel Xeon L5335 DL140 G3 2.0GHz 4-Core 8MB 80W Full Processor Option Kit - Part Number: 453475 B21\"\n",
      "\n",
      "This representation includes the following relevant features and attributes:\n",
      "\n",
      "* Brand: Intel\n",
      "* Model: Xeon L5335\n",
      "* Speed: 2.0GHz\n",
      "* Cores: 4\n",
      "* Memory: 8MB\n",
      "* Power Consumption: 80W\n",
      "* Processor Type: Full Processor Option Kit\n",
      "* Part Number: 453475 B21\n",
      "\n",
      "####################################################################################################\n",
      "\n",
      "[BASE]\n",
      "\"Intel Xeon E5506 DL ML370 G6 2.13GHz 4-Core 4MB 80W DDR3 Full Processor Option Kit - Part Number: 495942 B21\"\n",
      "\n",
      "This representation includes the following relevant features and attributes:\n",
      "\n",
      "* Intel Xeon E5506: The specific model of the processor\n",
      "* DL ML370 G6: The motherboard chipset and form factor (DL = dual-processor capable, ML370 = Mobile PCI Express Module, G6 = Generation 6)\n",
      "* 2.13GHz: The clock speed of the processor\n",
      "* 4-Core: The number of processing cores\n",
      "* 4MB: The size of the processor's cache memory\n",
      "* 80W: The maximum power consumption of the processor\n",
      "* DDR3 Full: The type of memory supported by the processor (DDR3) and the fact that it supports full-speed operation\n",
      "* Processor Option Kit: A bundle of components that includes the processor, heat sink, and fan\n",
      "* Part Number: A unique identifier for the product, which can be used for inventory management, ordering, and customer support purposes\n",
      "\n",
      "[SIMILAR]\n",
      "\"Intel Xeon E5506 DL ML370 G6 2.13GHz 4C 4MB 80W DDR3 Full Processor Option Kit - Part Number: 495942 B21\"\n",
      "\n",
      "This representation includes the following features and attributes:\n",
      "\n",
      "* Brand: Intel\n",
      "* Model: Xeon E5506\n",
      "* Speed: 2.13GHz\n",
      "* Cores: 4\n",
      "* Memory: 4MB\n",
      "* Power Consumption: 80W\n",
      "* Processor Type: DDR3 Full\n",
      "* Product Line: ML370 G6\n",
      "* Part Number: 495942 B21\n",
      "\n",
      "[DIFFERENT]\n",
      "\"HP Intel Xeon E5506 DL380 G6 2.13GHz 4-Core 4MB 80W Full Processor Option Kit - Part Number: 492131 B21\"\n",
      "\n",
      "####################################################################################################\n",
      "\n",
      "[BASE]\n",
      "\"Intel Xeon E5506 DL ML370 G6 2.13GHz 4-Core 4MB 80W DDR3 Full Processor Option Kit - Part Number: 495942 B21\"\n",
      "\n",
      "This representation includes the following relevant features and attributes:\n",
      "\n",
      "* Intel Xeon E5506: The specific model of the processor\n",
      "* DL ML370 G6: The motherboard chipset and form factor (DL = dual-processor capable, ML370 = Mobile PCI Express Module, G6 = Generation 6)\n",
      "* 2.13GHz: The clock speed of the processor\n",
      "* 4-Core: The number of processing cores\n",
      "* 4MB: The size of the processor's cache memory\n",
      "* 80W: The maximum power consumption of the processor\n",
      "* DDR3 Full: The type of memory supported by the processor (DDR3) and the fact that it supports full-speed operation\n",
      "* Processor Option Kit: A bundle of components that includes the processor, heat sink, and fan\n",
      "* Part Number: A unique identifier for the product, which can be used for inventory management, ordering, and customer support purposes\n",
      "\n",
      "[SIMILAR]\n",
      "\"Intel Xeon E5506 DL ML370 G6 2.13GHz 4C 4MB 80W DDR3 Full Processor Option Kit - Part Number: 495942 B21\"\n",
      "\n",
      "This representation includes the following features and attributes:\n",
      "\n",
      "* Brand: Intel\n",
      "* Model: Xeon E5506\n",
      "* Speed: 2.13GHz\n",
      "* Cores: 4\n",
      "* Memory: 4MB\n",
      "* Power Consumption: 80W\n",
      "* Processor Type: DDR3 Full\n",
      "* Product Line: ML370 G6\n",
      "* Part Number: 495942 B21\n",
      "\n",
      "[DIFFERENT]\n",
      "\"356820 CT1 DL585 4P OPT 848 2 2GHz Wholesale Price\"\n",
      "\n",
      "This representation includes the following features and attributes:\n",
      "\n",
      "* Product code: 356820\n",
      "* Type: CT1\n",
      "* Model: DL585\n",
      "* Processor: 4P\n",
      "* Operating frequency: 2GHz\n",
      "* Memory: 848\n",
      "* Number of cores: 2\n",
      "* Price: Wholesale\n"
     ]
    }
   ],
   "source": [
    "dataset = DataLoader(PletsDataset(\"./../data\", \"train_preprocessed\"), batch_size=5)\n",
    "for c, i in enumerate(dataset):\n",
    "    example = np.array(i).transpose()[0]\n",
    "    print(\"[BASE]\")\n",
    "    print(example[0])\n",
    "    print(\"\\n[SIMILAR]\")\n",
    "    print(example[1])\n",
    "    print(\"\\n[DIFFERENT]\")\n",
    "    print(example[2])\n",
    "    if c == 2:\n",
    "        break\n",
    "    print(\"\\n\"+\"#\"*100+\"\\n\")"
   ]
  },
  {
   "cell_type": "markdown",
   "metadata": {},
   "source": [
    "## Metric demonstration\n",
    "..."
   ]
  },
  {
   "cell_type": "code",
   "execution_count": 18,
   "metadata": {},
   "outputs": [
    {
     "name": "stdout",
     "output_type": "stream",
     "text": [
      "Pairwise similarities: [1, 0.75, 0.5, 0.25, 0], metric value: 1.0\n",
      "Pairwise similarities: [1, 0.95, 0.9, 0.85, 0.8], metric value: 0.88\n",
      "Pairwise similarities: [1, 0.999, 0.998, 0.997, 0.996], metric value: 0.813997\n",
      "Pairwise similarities: [1, 1, 1, 1, 1], metric value: 0.3125\n",
      "Pairwise similarities: [1, 0.75, 0.9, 0.25, 0], metric value: 0.9339999999999999\n",
      "Pairwise similarities: [0, 0.25, 0.5, 0.75, 1], metric value: 0.25\n",
      "Pairwise similarities: [1, 0, 1, 0, 1], metric value: 0.4625\n",
      "Pairwise similarities: [0, 0, 1, 0, 1], metric value: 0.26250000000000007\n",
      "Pairwise similarities: [1, 0, 0, 0, 0], metric value: 0.6125\n",
      "Pairwise similarities: [0, 1, 0, 0, 0], metric value: 0.5125\n",
      "Pairwise similarities: [0, 0, 0, 0, 1], metric value: 0.21250000000000005\n"
     ]
    }
   ],
   "source": [
    "presets = [\n",
    "    [1, 0.75, 0.5, 0.25, 0],\n",
    "    [1, 0.95, 0.9, 0.85, 0.8],\n",
    "    [1, 0.999, 0.998, 0.997, 0.996],\n",
    "    [1, 1, 1, 1, 1],\n",
    "    [1, 0.75, 0.9, 0.25, 0],\n",
    "    [0, 0.25, 0.5, 0.75, 1],\n",
    "    [1, 0, 1, 0, 1],\n",
    "    [0, 0, 1, 0, 1],\n",
    "    [1, 0, 0, 0, 0],\n",
    "    [0, 1, 0, 0, 0],\n",
    "    [0, 0, 0, 0, 1]\n",
    "]\n",
    "metric = HierachialMetric()\n",
    "for preset in presets:\n",
    "    print(f\"Pairwise similarities: {preset}, metric value: {metric.evaluate_similarities(preset)}\")"
   ]
  },
  {
   "cell_type": "markdown",
   "metadata": {},
   "source": [
    "## Full pipeline demonstration\n",
    "..."
   ]
  },
  {
   "cell_type": "code",
   "execution_count": null,
   "metadata": {},
   "outputs": [],
   "source": []
  },
  {
   "cell_type": "markdown",
   "metadata": {},
   "source": [
    "## Ablation study - model architecture, training procedure\n",
    "..."
   ]
  },
  {
   "cell_type": "code",
   "execution_count": 25,
   "metadata": {},
   "outputs": [
    {
     "name": "stderr",
     "output_type": "stream",
     "text": [
      " 93%|█████████▎| 14/15 [00:08<00:00,  1.64it/s]\n",
      " 93%|█████████▎| 14/15 [00:04<00:00,  3.44it/s]\n"
     ]
    }
   ],
   "source": [
    "models = {\n",
    "    \"Raw BERT\": PretrainedBert(),\n",
    "    \"Raw DistilBERT\": PretrainedDistilBert()\n",
    "}\n",
    "train_dataset = DataLoader(PletsDataset(\"./../data\", \"train_preprocessed\"), batch_size=5)\n",
    "test_dataset = DataLoader(PletsDataset(\"./../data\", \"test_preprocessed\"))\n",
    "metric = HierachialMetric()\n",
    "\n",
    "df = pd.DataFrame(columns=[\"model\", \"score\"])\n",
    "for label, model in models.items():\n",
    "    comparator = ProductComparator(model.train(train_dataset))\n",
    "    score = metric.evaluate_dataset(comparator, test_dataset, limit=15)\n",
    "    df.loc[len(df)] = [label, score]"
   ]
  },
  {
   "cell_type": "code",
   "execution_count": 20,
   "metadata": {},
   "outputs": [
    {
     "name": "stdout",
     "output_type": "stream",
     "text": [
      "            model     score\n",
      "0        Raw BERT  0.726471\n",
      "1  Raw DistilBERT  0.711047\n"
     ]
    },
    {
     "data": {
      "image/png": "[encoded data removed]",
      "text/plain": [
       "<Figure size 640x480 with 1 Axes>"
      ]
     },
     "metadata": {},
     "output_type": "display_data"
    }
   ],
   "source": [
    "print(df)\n",
    "sns.barplot(x=\"model\", y=\"score\", data=df)\n",
    "plt.show()"
   ]
  }
 ],
 "metadata": {
  "kernelspec": {
   "display_name": "Python 3",
   "language": "python",
   "name": "python3"
  },
  "language_info": {
   "codemirror_mode": {
    "name": "ipython",
    "version": 3
   },
   "file_extension": ".py",
   "mimetype": "text/x-python",
   "name": "python",
   "nbconvert_exporter": "python",
   "pygments_lexer": "ipython3",
   "version": "3.10.11"
  }
 },
 "nbformat": 4,
 "nbformat_minor": 2
}
