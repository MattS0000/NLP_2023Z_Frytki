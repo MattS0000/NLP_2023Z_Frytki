{
 "cells": [
  {
   "cell_type": "code",
   "execution_count": 4,
   "metadata": {},
   "outputs": [
    {
     "name": "stderr",
     "output_type": "stream",
     "text": [
      "C:\\Users\\Aurif\\AppData\\Local\\Packages\\PythonSoftwareFoundation.Python.3.10_qbz5n2kfra8p0\\LocalCache\\local-packages\\Python310\\site-packages\\tqdm\\auto.py:21: TqdmWarning: IProgress not found. Please update jupyter and ipywidgets. See https://ipywidgets.readthedocs.io/en/stable/user_install.html\n",
      "  from .autonotebook import tqdm as notebook_tqdm\n"
     ]
    }
   ],
   "source": [
    "from training.pretrained_bert import PretrainedBert\n",
    "from training.pretrained_distil_bert import PretrainedDistilBert\n",
    "from tests.similarity import item_comparison\n",
    "from comparison.product_comparator import ProductComparator\n",
    "from preprocessing.dataset_loader import PletsDataset\n",
    "import numpy as np\n",
    "from torch.utils.data import DataLoader"
   ]
  },
  {
   "cell_type": "markdown",
   "metadata": {},
   "source": [
    "## Demonstration of raw embedding comparison\n",
    "Results of running the product comparison algorithm on abstract test.   \n",
    "This part only uses the last two steps of the pipeline, that is embedding generation (in this case, based on a pretrained model) and embedding similarity calculation.  \n",
    "Both the value of similarity metric and the execution time will be measured."
   ]
  },
  {
   "cell_type": "markdown",
   "metadata": {},
   "source": [
    "### Bert"
   ]
  },
  {
   "cell_type": "code",
   "execution_count": 4,
   "metadata": {},
   "outputs": [
    {
     "name": "stdout",
     "output_type": "stream",
     "text": [
      "######## Comparison ########\n",
      "# Red apple                #\n",
      "# Green apple              #\n",
      "############################\n",
      "# Similarity: 0.99230      #\n",
      "# Execution time: 36.06ms  #\n",
      "############################\n",
      "\n",
      "######## Comparison ########\n",
      "# Red apple                #\n",
      "# Lemon                    #\n",
      "############################\n",
      "# Similarity: 0.97707      #\n",
      "# Execution time: 34.18ms  #\n",
      "############################\n",
      "\n",
      "######## Comparison ########\n",
      "# Red apple                #\n",
      "# Brick                    #\n",
      "############################\n",
      "# Similarity: 0.96443      #\n",
      "# Execution time: 34.49ms  #\n",
      "############################\n",
      "\n",
      "############ Comparison ############\n",
      "# Red apple                        #\n",
      "# Warsaw University of Technology  #\n",
      "####################################\n",
      "# Similarity: 0.93574              #\n",
      "# Execution time: 35.39ms          #\n",
      "####################################\n",
      "\n"
     ]
    }
   ],
   "source": [
    "model = ProductComparator(PretrainedBert().train())\n",
    "item_comparison(model, \"Red apple\", \"Green apple\")\n",
    "item_comparison(model, \"Red apple\", \"Lemon\")\n",
    "item_comparison(model, \"Red apple\", \"Brick\")\n",
    "item_comparison(model, \"Red apple\", \"Warsaw University of Technology\")"
   ]
  },
  {
   "cell_type": "markdown",
   "metadata": {},
   "source": [
    "### DistilBert"
   ]
  },
  {
   "cell_type": "code",
   "execution_count": 8,
   "metadata": {},
   "outputs": [
    {
     "name": "stdout",
     "output_type": "stream",
     "text": [
      "######## Comparison ########\n",
      "# Red apple                #\n",
      "# Green apple              #\n",
      "############################\n",
      "# Similarity: 0.99676      #\n",
      "# Execution time: 18.38ms  #\n",
      "############################\n",
      "\n",
      "######## Comparison ########\n",
      "# Red apple                #\n",
      "# Lemon                    #\n",
      "############################\n",
      "# Similarity: 0.98241      #\n",
      "# Execution time: 18.02ms  #\n",
      "############################\n",
      "\n",
      "######## Comparison ########\n",
      "# Red apple                #\n",
      "# Brick                    #\n",
      "############################\n",
      "# Similarity: 0.98176      #\n",
      "# Execution time: 17.75ms  #\n",
      "############################\n",
      "\n",
      "############ Comparison ############\n",
      "# Red apple                        #\n",
      "# Warsaw University of Technology  #\n",
      "####################################\n",
      "# Similarity: 0.95381              #\n",
      "# Execution time: 19.05ms          #\n",
      "####################################\n",
      "\n"
     ]
    }
   ],
   "source": [
    "model = ProductComparator(PretrainedDistilBert().train())\n",
    "item_comparison(model, \"Red apple\", \"Green apple\")\n",
    "item_comparison(model, \"Red apple\", \"Lemon\")\n",
    "item_comparison(model, \"Red apple\", \"Brick\")\n",
    "item_comparison(model, \"Red apple\", \"Warsaw University of Technology\")"
   ]
  },
  {
   "cell_type": "markdown",
   "metadata": {},
   "source": [
    "...info about results, explanation what happened, times and so on"
   ]
  },
  {
   "cell_type": "markdown",
   "metadata": {},
   "source": [
    "## Demonstration of feature extraction\n",
    "...using the preprocessed dataset"
   ]
  },
  {
   "cell_type": "code",
   "execution_count": 11,
   "metadata": {},
   "outputs": [
    {
     "name": "stdout",
     "output_type": "stream",
     "text": [
      "[BASE]\n",
      "\"Intel Xeon 5130 DL140 G3 2.0GHz Quad-Core Processor - 4MB Cache, 65W TDP, Full Processor Option Kit - Part Number: 417772 B21\"\n",
      "\n",
      "This representation includes the following relevant features and attributes:\n",
      "\n",
      "* Brand: Intel\n",
      "* Model: Xeon 5130\n",
      "* Speed: 2.0GHz\n",
      "* Cores: Quad-core\n",
      "* Cache: 4MB\n",
      "* Thermal Design Power (TDP): 65W\n",
      "* Processor Type: Full Processor Option Kit\n",
      "* Part Number: 417772 B21\n",
      "\n",
      "[SIMILAR]\n",
      "\"Intel Xeon 5130 2GHz 4MB L2 Processor - HP\n",
      "\n",
      "* Intel Xeon 5000 sequence\n",
      "* 2 GHz processor frequency\n",
      "* LGA 771 socket J\n",
      "* 65nm 64-bit technology\n",
      "* 291M transistors\n",
      "* 143mm processing die size\n",
      "* Thermal Design Power (TDP): 65W\n",
      "* Supports Intel Virtualization Technology (VT)\n",
      "* Enhanced Intel SpeedStep Technology\n",
      "* Execute Disable Bit\n",
      "* Idle States: C0, C1, C2...\n",
      "* On-die digital thermal sensor\n",
      "* Protective thermal management features\n",
      "\n",
      "[DIFFERENT]\n",
      "\"Intel Xeon L5335 DL140 G3 2.0GHz 4-Core 8MB 80W Full Processor Option Kit - Part Number: 453475 B21\"\n",
      "\n",
      "This representation includes the following relevant features and attributes:\n",
      "\n",
      "* Brand: Intel\n",
      "* Model: Xeon L5335\n",
      "* Speed: 2.0GHz\n",
      "* Cores: 4\n",
      "* Memory: 8MB\n",
      "* Power Consumption: 80W\n",
      "* Processor Type: Full Processor Option Kit\n",
      "* Part Number: 453475 B21\n",
      "\n",
      "####################################################################################################\n",
      "\n",
      "[BASE]\n",
      "\"Intel Xeon E5506 DL ML370 G6 2.13GHz 4-Core 4MB 80W DDR3 Full Processor Option Kit - Part Number: 495942 B21\"\n",
      "\n",
      "This representation includes the following relevant features and attributes:\n",
      "\n",
      "* Intel Xeon E5506: The specific model of the processor\n",
      "* DL ML370 G6: The motherboard chipset and form factor (DL = dual-processor capable, ML370 = Mobile PCI Express Module, G6 = Generation 6)\n",
      "* 2.13GHz: The clock speed of the processor\n",
      "* 4-Core: The number of processing cores\n",
      "* 4MB: The size of the processor's cache memory\n",
      "* 80W: The maximum power consumption of the processor\n",
      "* DDR3 Full: The type of memory supported by the processor (DDR3) and the fact that it supports full-speed operation\n",
      "* Processor Option Kit: A bundle of components that includes the processor, heat sink, and fan\n",
      "* Part Number: A unique identifier for the product, which can be used for inventory management, ordering, and customer support purposes\n",
      "\n",
      "[SIMILAR]\n",
      "\"Intel Xeon E5506 DL ML370 G6 2.13GHz 4C 4MB 80W DDR3 Full Processor Option Kit - Part Number: 495942 B21\"\n",
      "\n",
      "This representation includes the following features and attributes:\n",
      "\n",
      "* Brand: Intel\n",
      "* Model: Xeon E5506\n",
      "* Speed: 2.13GHz\n",
      "* Cores: 4\n",
      "* Memory: 4MB\n",
      "* Power Consumption: 80W\n",
      "* Processor Type: DDR3 Full\n",
      "* Product Line: ML370 G6\n",
      "* Part Number: 495942 B21\n",
      "\n",
      "[DIFFERENT]\n",
      "\"HP Intel Xeon E5506 DL380 G6 2.13GHz 4-Core 4MB 80W Full Processor Option Kit - Part Number: 492131 B21\"\n",
      "\n",
      "####################################################################################################\n",
      "\n",
      "[BASE]\n",
      "\"Intel Xeon E5506 DL ML370 G6 2.13GHz 4-Core 4MB 80W DDR3 Full Processor Option Kit - Part Number: 495942 B21\"\n",
      "\n",
      "This representation includes the following relevant features and attributes:\n",
      "\n",
      "* Intel Xeon E5506: The specific model of the processor\n",
      "* DL ML370 G6: The motherboard chipset and form factor (DL = dual-processor capable, ML370 = Mobile PCI Express Module, G6 = Generation 6)\n",
      "* 2.13GHz: The clock speed of the processor\n",
      "* 4-Core: The number of processing cores\n",
      "* 4MB: The size of the processor's cache memory\n",
      "* 80W: The maximum power consumption of the processor\n",
      "* DDR3 Full: The type of memory supported by the processor (DDR3) and the fact that it supports full-speed operation\n",
      "* Processor Option Kit: A bundle of components that includes the processor, heat sink, and fan\n",
      "* Part Number: A unique identifier for the product, which can be used for inventory management, ordering, and customer support purposes\n",
      "\n",
      "[SIMILAR]\n",
      "\"Intel Xeon E5506 DL ML370 G6 2.13GHz 4C 4MB 80W DDR3 Full Processor Option Kit - Part Number: 495942 B21\"\n",
      "\n",
      "This representation includes the following features and attributes:\n",
      "\n",
      "* Brand: Intel\n",
      "* Model: Xeon E5506\n",
      "* Speed: 2.13GHz\n",
      "* Cores: 4\n",
      "* Memory: 4MB\n",
      "* Power Consumption: 80W\n",
      "* Processor Type: DDR3 Full\n",
      "* Product Line: ML370 G6\n",
      "* Part Number: 495942 B21\n",
      "\n",
      "[DIFFERENT]\n",
      "\"356820 CT1 DL585 4P OPT 848 2 2GHz Wholesale Price\"\n",
      "\n",
      "This representation includes the following features and attributes:\n",
      "\n",
      "* Product code: 356820\n",
      "* Type: CT1\n",
      "* Model: DL585\n",
      "* Processor: 4P\n",
      "* Operating frequency: 2GHz\n",
      "* Memory: 848\n",
      "* Number of cores: 2\n",
      "* Price: Wholesale\n"
     ]
    }
   ],
   "source": [
    "dataset = DataLoader(PletsDataset(\"./../data\", \"train_preprocessed\"), batch_size=5)\n",
    "for c, i in enumerate(dataset):\n",
    "    example = np.array(i).transpose()[0]\n",
    "    print(\"[BASE]\")\n",
    "    print(example[0])\n",
    "    print(\"\\n[SIMILAR]\")\n",
    "    print(example[1])\n",
    "    print(\"\\n[DIFFERENT]\")\n",
    "    print(example[2])\n",
    "    if c == 2:\n",
    "        break\n",
    "    print(\"\\n\"+\"#\"*100+\"\\n\")"
   ]
  }
 ],
 "metadata": {
  "kernelspec": {
   "display_name": "Python 3",
   "language": "python",
   "name": "python3"
  },
  "language_info": {
   "codemirror_mode": {
    "name": "ipython",
    "version": 3
   },
   "file_extension": ".py",
   "mimetype": "text/x-python",
   "name": "python",
   "nbconvert_exporter": "python",
   "pygments_lexer": "ipython3",
   "version": "3.10.11"
  }
 },
 "nbformat": 4,
 "nbformat_minor": 2
}
