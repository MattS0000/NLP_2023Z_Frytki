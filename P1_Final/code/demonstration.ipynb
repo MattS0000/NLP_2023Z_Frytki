{
 "cells": [
  {
   "cell_type": "code",
   "execution_count": 1,
   "metadata": {},
   "outputs": [
    {
     "name": "stderr",
     "output_type": "stream",
     "text": [
      "C:\\Users\\Aurif\\AppData\\Local\\Packages\\PythonSoftwareFoundation.Python.3.10_qbz5n2kfra8p0\\LocalCache\\local-packages\\Python310\\site-packages\\tqdm\\auto.py:21: TqdmWarning: IProgress not found. Please update jupyter and ipywidgets. See https://ipywidgets.readthedocs.io/en/stable/user_install.html\n",
      "  from .autonotebook import tqdm as notebook_tqdm\n"
     ]
    },
    {
     "name": "stdout",
     "output_type": "stream",
     "text": [
      "No GPU available, using the CPU instead.\n"
     ]
    }
   ],
   "source": [
    "from training.pretrained_bert import PretrainedBert\n",
    "from training.pretrained_distil_bert import PretrainedDistilBert\n",
    "from training.pretrained_roberta import PretrainedRoberta\n",
    "from tests.similarity import item_comparison\n",
    "from comparison.product_comparator import ProductComparator\n",
    "from preprocessing.dataset_loader import PletsDataset\n",
    "import numpy as np\n",
    "from torch.utils.data import DataLoader\n",
    "from evaluation.hierarchial_metric import HierachialMetric\n",
    "import pandas as pd\n",
    "import seaborn as sns\n",
    "import matplotlib.pyplot as plt\n",
    "from training.trainer import Trainer\n",
    "import pickle"
   ]
  },
  {
   "cell_type": "markdown",
   "metadata": {},
   "source": [
    "## Demonstration of raw embedding comparison\n",
    "Results of running the product comparison algorithm on abstract test.   \n",
    "This part only uses the last two steps of the pipeline, that is embedding generation (in this case, based on a pretrained model without further finetuning) and embedding similarity calculation.\n",
    "Both the value of similarity metric and the execution time will be measured. Three different models will be used to compare those values between them - Bert, DistilBert, and RoBERTa."
   ]
  },
  {
   "cell_type": "markdown",
   "metadata": {},
   "source": [
    "### Bert"
   ]
  },
  {
   "cell_type": "code",
   "execution_count": 15,
   "metadata": {},
   "outputs": [
    {
     "name": "stdout",
     "output_type": "stream",
     "text": [
      "######## Comparison ########\n",
      "# Red apple                #\n",
      "# Green apple              #\n",
      "############################\n",
      "# Similarity: 0.99615      #\n",
      "# Execution time: 36.74ms  #\n",
      "############################\n",
      "\n",
      "######## Comparison ########\n",
      "# Red apple                #\n",
      "# Lemon                    #\n",
      "############################\n",
      "# Similarity: 0.98853      #\n",
      "# Execution time: 36.37ms  #\n",
      "############################\n",
      "\n",
      "######## Comparison ########\n",
      "# Red apple                #\n",
      "# Brick                    #\n",
      "############################\n",
      "# Similarity: 0.98222      #\n",
      "# Execution time: 36.72ms  #\n",
      "############################\n",
      "\n",
      "############ Comparison ############\n",
      "# Red apple                        #\n",
      "# Warsaw University of Technology  #\n",
      "####################################\n",
      "# Similarity: 0.96787              #\n",
      "# Execution time: 36.10ms          #\n",
      "####################################\n"
     ]
    }
   ],
   "source": [
    "model = ProductComparator(PretrainedBert().train())\n",
    "item_comparison(model, \"Red apple\", \"Green apple\")\n",
    "item_comparison(model, \"Red apple\", \"Lemon\")\n",
    "item_comparison(model, \"Red apple\", \"Brick\")\n",
    "item_comparison(model, \"Red apple\", \"Warsaw University of Technology\")"
   ]
  },
  {
   "cell_type": "markdown",
   "metadata": {},
   "source": [
    "### DistilBert"
   ]
  },
  {
   "cell_type": "code",
   "execution_count": 16,
   "metadata": {},
   "outputs": [
    {
     "name": "stdout",
     "output_type": "stream",
     "text": [
      "######## Comparison ########\n",
      "# Red apple                #\n",
      "# Green apple              #\n",
      "############################\n",
      "# Similarity: 0.99838      #\n",
      "# Execution time: 18.22ms  #\n",
      "############################\n",
      "\n",
      "######## Comparison ########\n",
      "# Red apple                #\n",
      "# Lemon                    #\n",
      "############################\n",
      "# Similarity: 0.99120      #\n",
      "# Execution time: 17.93ms  #\n",
      "############################\n",
      "\n",
      "######## Comparison ########\n",
      "# Red apple                #\n",
      "# Brick                    #\n",
      "############################\n",
      "# Similarity: 0.99088      #\n",
      "# Execution time: 17.83ms  #\n",
      "############################\n",
      "\n",
      "############ Comparison ############\n",
      "# Red apple                        #\n",
      "# Warsaw University of Technology  #\n",
      "####################################\n",
      "# Similarity: 0.97690              #\n",
      "# Execution time: 18.35ms          #\n",
      "####################################\n"
     ]
    }
   ],
   "source": [
    "model = ProductComparator(PretrainedDistilBert().train())\n",
    "item_comparison(model, \"Red apple\", \"Green apple\")\n",
    "item_comparison(model, \"Red apple\", \"Lemon\")\n",
    "item_comparison(model, \"Red apple\", \"Brick\")\n",
    "item_comparison(model, \"Red apple\", \"Warsaw University of Technology\")"
   ]
  },
  {
   "cell_type": "markdown",
   "metadata": {},
   "source": [
    "### RoBERTa"
   ]
  },
  {
   "cell_type": "code",
   "execution_count": 7,
   "metadata": {},
   "outputs": [
    {
     "name": "stderr",
     "output_type": "stream",
     "text": [
      "config.json: 100%|██████████| 481/481 [00:00<?, ?B/s] \n",
      "C:\\Users\\Aurif\\AppData\\Local\\Packages\\PythonSoftwareFoundation.Python.3.10_qbz5n2kfra8p0\\LocalCache\\local-packages\\Python310\\site-packages\\huggingface_hub\\file_download.py:147: UserWarning: `huggingface_hub` cache-system uses symlinks by default to efficiently store duplicated files but your machine does not support them in C:\\Users\\Aurif\\.cache\\huggingface\\hub. Caching files will still work but in a degraded version that might require more space on your disk. This warning can be disabled by setting the `HF_HUB_DISABLE_SYMLINKS_WARNING` environment variable. For more details, see https://huggingface.co/docs/huggingface_hub/how-to-cache#limitations.\n",
      "To support symlinks on Windows, you either need to activate Developer Mode or to run Python as an administrator. In order to see activate developer mode, see this article: https://docs.microsoft.com/en-us/windows/apps/get-started/enable-your-device-for-development\n",
      "  warnings.warn(message)\n",
      "model.safetensors: 100%|██████████| 499M/499M [00:14<00:00, 33.5MB/s] \n",
      "Some weights of RobertaModel were not initialized from the model checkpoint at roberta-base and are newly initialized: ['roberta.pooler.dense.bias', 'roberta.pooler.dense.weight']\n",
      "You should probably TRAIN this model on a down-stream task to be able to use it for predictions and inference.\n",
      "vocab.json: 100%|██████████| 899k/899k [00:00<00:00, 2.05MB/s]\n",
      "merges.txt: 100%|██████████| 456k/456k [00:00<00:00, 1.38MB/s]\n",
      "tokenizer.json: 100%|██████████| 1.36M/1.36M [00:00<00:00, 2.47MB/s]\n"
     ]
    },
    {
     "name": "stdout",
     "output_type": "stream",
     "text": [
      "######## Comparison ########\n",
      "# Red apple                #\n",
      "# Green apple              #\n",
      "############################\n",
      "# Similarity: 0.99992      #\n",
      "# Execution time: 35.76ms  #\n",
      "############################\n",
      "\n",
      "######## Comparison ########\n",
      "# Red apple                #\n",
      "# Lemon                    #\n",
      "############################\n",
      "# Similarity: 0.99961      #\n",
      "# Execution time: 35.76ms  #\n",
      "############################\n",
      "\n",
      "######## Comparison ########\n",
      "# Red apple                #\n",
      "# Brick                    #\n",
      "############################\n",
      "# Similarity: 0.99960      #\n",
      "# Execution time: 35.59ms  #\n",
      "############################\n",
      "\n",
      "############ Comparison ############\n",
      "# Red apple                        #\n",
      "# Warsaw University of Technology  #\n",
      "####################################\n",
      "# Similarity: 0.99949              #\n",
      "# Execution time: 37.63ms          #\n",
      "####################################\n"
     ]
    }
   ],
   "source": [
    "model = ProductComparator(PretrainedRoberta().train())\n",
    "item_comparison(model, \"Red apple\", \"Green apple\")\n",
    "item_comparison(model, \"Red apple\", \"Lemon\")\n",
    "item_comparison(model, \"Red apple\", \"Brick\")\n",
    "item_comparison(model, \"Red apple\", \"Warsaw University of Technology\")"
   ]
  },
  {
   "cell_type": "markdown",
   "metadata": {},
   "source": [
    "As we can see, in all three models the similarities follow expected values - it is higher when compared items are close to each other (like `red apple` and `green apple`), and lower when items are different (like `red apple` and `Warsaw University of Technology`). All values are really high, reaching even 0.9949 for the most different pair of items. This is consistent with results usually present when using cosine distance between embeddings as similarity metrics. As we mostly care about the order of the similarities and not the absolute values themselves, this is not going to be a significant problem. A normalization of values with a non-linear scale can be later applied in the pipeline to make the values more intuitive to interpret.\n",
    "\n",
    "What's also worth noting are the execution times of each of the models. Both BERT and RoBERTa achieved about 35 milliseconds per pair, while DistilBERT achieved significantly better result, that being 18 milliseconds per pair. This time can be additionally improved by running the pipeline on the GPU, which we were unfortunately unable to do due to technical difficulties.\n",
    "\n",
    "Overall, the results above show that a cosine metric on BERT embeddings can be used as a good multi-hierarchical measure, when if done on an only pretrained model."
   ]
  },
  {
   "cell_type": "markdown",
   "metadata": {},
   "source": [
    "## Demonstration of feature extraction\n",
    "Results of the feature extraction based on product title and description. The following code loads preprocessed data from a locally stored cache and displays few example triplets from the training dataset. The feature extraction is done through the use of a large language model, through an API hosted on hugging face, with the use of a single prompt per item. The training dataset consists of triples with base, a similar item, and a differing item, a per the triplet-loss implementation.\n",
    "\n",
    "We consider feature extraction as a data preprocessing step, therefore its execution time is not counted toward the execution time of the pipeline (as a preprocessed dataset can be generated once and stored in memory for all future comparisons). As such, execution time of feature extraction was not measured."
   ]
  },
  {
   "cell_type": "code",
   "execution_count": 17,
   "metadata": {},
   "outputs": [
    {
     "name": "stdout",
     "output_type": "stream",
     "text": [
      "[BASE]\n",
      "\"Intel Xeon 5130 DL140 G3 2.0GHz Quad-Core Processor - 4MB Cache, 65W TDP, Full Processor Option Kit - Part Number: 417772 B21\"\n",
      "\n",
      "This representation includes the following relevant features and attributes:\n",
      "\n",
      "* Brand: Intel\n",
      "* Model: Xeon 5130\n",
      "* Speed: 2.0GHz\n",
      "* Cores: Quad-core\n",
      "* Cache: 4MB\n",
      "* Thermal Design Power (TDP): 65W\n",
      "* Processor Type: Full Processor Option Kit\n",
      "* Part Number: 417772 B21\n",
      "\n",
      "[SIMILAR]\n",
      "\"Intel Xeon 5130 2GHz 4MB L2 Processor - HP\n",
      "\n",
      "* Intel Xeon 5000 sequence\n",
      "* 2 GHz processor frequency\n",
      "* LGA 771 socket J\n",
      "* 65nm 64-bit technology\n",
      "* 291M transistors\n",
      "* 143mm processing die size\n",
      "* Thermal Design Power (TDP): 65W\n",
      "* Supports Intel Virtualization Technology (VT)\n",
      "* Enhanced Intel SpeedStep Technology\n",
      "* Execute Disable Bit\n",
      "* Idle States: C0, C1, C2...\n",
      "* On-die digital thermal sensor\n",
      "* Protective thermal management features\n",
      "\n",
      "[DIFFERENT]\n",
      "\"Intel Xeon L5335 DL140 G3 2.0GHz 4-Core 8MB 80W Full Processor Option Kit - Part Number: 453475 B21\"\n",
      "\n",
      "This representation includes the following relevant features and attributes:\n",
      "\n",
      "* Brand: Intel\n",
      "* Model: Xeon L5335\n",
      "* Speed: 2.0GHz\n",
      "* Cores: 4\n",
      "* Memory: 8MB\n",
      "* Power Consumption: 80W\n",
      "* Processor Type: Full Processor Option Kit\n",
      "* Part Number: 453475 B21\n",
      "\n",
      "####################################################################################################\n",
      "\n",
      "[BASE]\n",
      "\"Intel Xeon E5506 DL ML370 G6 2.13GHz 4-Core 4MB 80W DDR3 Full Processor Option Kit - Part Number: 495942 B21\"\n",
      "\n",
      "This representation includes the following relevant features and attributes:\n",
      "\n",
      "* Intel Xeon E5506: The specific model of the processor\n",
      "* DL ML370 G6: The motherboard chipset and form factor (DL = dual-processor capable, ML370 = Mobile PCI Express Module, G6 = Generation 6)\n",
      "* 2.13GHz: The clock speed of the processor\n",
      "* 4-Core: The number of processing cores\n",
      "* 4MB: The size of the processor's cache memory\n",
      "* 80W: The maximum power consumption of the processor\n",
      "* DDR3 Full: The type of memory supported by the processor (DDR3) and the fact that it supports full-speed operation\n",
      "* Processor Option Kit: A bundle of components that includes the processor, heat sink, and fan\n",
      "* Part Number: A unique identifier for the product, which can be used for inventory management, ordering, and customer support purposes\n",
      "\n",
      "[SIMILAR]\n",
      "\"Intel Xeon E5506 DL ML370 G6 2.13GHz 4C 4MB 80W DDR3 Full Processor Option Kit - Part Number: 495942 B21\"\n",
      "\n",
      "This representation includes the following features and attributes:\n",
      "\n",
      "* Brand: Intel\n",
      "* Model: Xeon E5506\n",
      "* Speed: 2.13GHz\n",
      "* Cores: 4\n",
      "* Memory: 4MB\n",
      "* Power Consumption: 80W\n",
      "* Processor Type: DDR3 Full\n",
      "* Product Line: ML370 G6\n",
      "* Part Number: 495942 B21\n",
      "\n",
      "[DIFFERENT]\n",
      "\"HP Intel Xeon E5506 DL380 G6 2.13GHz 4-Core 4MB 80W Full Processor Option Kit - Part Number: 492131 B21\"\n",
      "\n",
      "####################################################################################################\n",
      "\n",
      "[BASE]\n",
      "\"Intel Xeon E5506 DL ML370 G6 2.13GHz 4-Core 4MB 80W DDR3 Full Processor Option Kit - Part Number: 495942 B21\"\n",
      "\n",
      "This representation includes the following relevant features and attributes:\n",
      "\n",
      "* Intel Xeon E5506: The specific model of the processor\n",
      "* DL ML370 G6: The motherboard chipset and form factor (DL = dual-processor capable, ML370 = Mobile PCI Express Module, G6 = Generation 6)\n",
      "* 2.13GHz: The clock speed of the processor\n",
      "* 4-Core: The number of processing cores\n",
      "* 4MB: The size of the processor's cache memory\n",
      "* 80W: The maximum power consumption of the processor\n",
      "* DDR3 Full: The type of memory supported by the processor (DDR3) and the fact that it supports full-speed operation\n",
      "* Processor Option Kit: A bundle of components that includes the processor, heat sink, and fan\n",
      "* Part Number: A unique identifier for the product, which can be used for inventory management, ordering, and customer support purposes\n",
      "\n",
      "[SIMILAR]\n",
      "\"Intel Xeon E5506 DL ML370 G6 2.13GHz 4C 4MB 80W DDR3 Full Processor Option Kit - Part Number: 495942 B21\"\n",
      "\n",
      "This representation includes the following features and attributes:\n",
      "\n",
      "* Brand: Intel\n",
      "* Model: Xeon E5506\n",
      "* Speed: 2.13GHz\n",
      "* Cores: 4\n",
      "* Memory: 4MB\n",
      "* Power Consumption: 80W\n",
      "* Processor Type: DDR3 Full\n",
      "* Product Line: ML370 G6\n",
      "* Part Number: 495942 B21\n",
      "\n",
      "[DIFFERENT]\n",
      "\"356820 CT1 DL585 4P OPT 848 2 2GHz Wholesale Price\"\n",
      "\n",
      "This representation includes the following features and attributes:\n",
      "\n",
      "* Product code: 356820\n",
      "* Type: CT1\n",
      "* Model: DL585\n",
      "* Processor: 4P\n",
      "* Operating frequency: 2GHz\n",
      "* Memory: 848\n",
      "* Number of cores: 2\n",
      "* Price: Wholesale\n"
     ]
    }
   ],
   "source": [
    "dataset = DataLoader(PletsDataset(\"./../data\", \"train_preprocessed\"), batch_size=5)\n",
    "for c, i in enumerate(dataset):\n",
    "    example = np.array(i).transpose()[0]\n",
    "    print(\"[BASE]\")\n",
    "    print(example[0])\n",
    "    print(\"\\n[SIMILAR]\")\n",
    "    print(example[1])\n",
    "    print(\"\\n[DIFFERENT]\")\n",
    "    print(example[2])\n",
    "    if c == 2:\n",
    "        break\n",
    "    print(\"\\n\"+\"#\"*100+\"\\n\")"
   ]
  },
  {
   "cell_type": "markdown",
   "source": [
    "We can see the feature extraction working correctly - each item is converted into a list-like string of attributes and their values. In most cases, attributes names match between items, which is highly desirable. We can also confirm that the triplets are constructed in the proper way - the similar item is indeed the same item as the base, and the different item is not."
   ],
   "metadata": {
    "collapsed": false
   }
  },
  {
   "cell_type": "markdown",
   "metadata": {},
   "source": [
    "## Metric demonstration\n",
    "The section below presents the novel metric introduced by us to measure the quality of a multi-hierarchical similarity measure. This is done by calculating metric value for a artificial examples of similarity values between a base item and a set of other items, with the first one being the most similar, and the last one being the most different. For example, `[1, 0.75, 0.5, 0.25, 0]` means that the similarity between two identical items is `1`, between two somewhat similar items is `0.5`, and between completely different items is `0`. This is the desirable distribution of similarities, which should achieve the highest values of the metric.\n",
    "\n",
    "The goal of the metric is to measure how well the given similarities match the expect result. This consists of two factors - proper ordering of similarities (from largest to smallest) and even spacing between values (having a big difference in similarity scores between exact items and between different items is more desirable than for this difference being small, even if in proper order)."
   ]
  },
  {
   "cell_type": "code",
   "execution_count": 18,
   "metadata": {},
   "outputs": [
    {
     "name": "stdout",
     "output_type": "stream",
     "text": [
      "Pairwise similarities: [1, 0.75, 0.5, 0.25, 0], metric value: 1.0\n",
      "Pairwise similarities: [1, 0.95, 0.9, 0.85, 0.8], metric value: 0.88\n",
      "Pairwise similarities: [1, 0.999, 0.998, 0.997, 0.996], metric value: 0.813997\n",
      "Pairwise similarities: [1, 1, 1, 1, 1], metric value: 0.3125\n",
      "Pairwise similarities: [1, 0.75, 0.9, 0.25, 0], metric value: 0.9339999999999999\n",
      "Pairwise similarities: [0, 0.25, 0.5, 0.75, 1], metric value: 0.25\n",
      "Pairwise similarities: [1, 0, 1, 0, 1], metric value: 0.4625\n",
      "Pairwise similarities: [0, 0, 1, 0, 1], metric value: 0.26250000000000007\n",
      "Pairwise similarities: [1, 0, 0, 0, 0], metric value: 0.6125\n",
      "Pairwise similarities: [0, 1, 0, 0, 0], metric value: 0.5125\n",
      "Pairwise similarities: [0, 0, 0, 0, 1], metric value: 0.21250000000000005\n"
     ]
    }
   ],
   "source": [
    "presets = [\n",
    "    [1, 0.75, 0.5, 0.25, 0],\n",
    "    [1, 0.95, 0.9, 0.85, 0.8],\n",
    "    [1, 0.999, 0.998, 0.997, 0.996],\n",
    "    [1, 1, 1, 1, 1],\n",
    "    [1, 0.75, 0.9, 0.25, 0],\n",
    "    [0, 0.25, 0.5, 0.75, 1],\n",
    "    [1, 0, 1, 0, 1],\n",
    "    [0, 0, 1, 0, 1],\n",
    "    [1, 0, 0, 0, 0],\n",
    "    [0, 1, 0, 0, 0],\n",
    "    [0, 0, 0, 0, 1]\n",
    "]\n",
    "metric = HierachialMetric()\n",
    "for preset in presets:\n",
    "    print(f\"Pairwise similarities: {preset}, metric value: {metric.evaluate_similarities(preset)}\")"
   ]
  },
  {
   "cell_type": "markdown",
   "source": [
    "We can see that the metric designed by us has all of the desired properties. It achieves the value of `1` for the perfect distribution (`[1, 0.75, 0.5, 0.25, 0]`), and tha value drops once the difference between similarities gets smaller. Having a single mismatch item while other still being optimal still returns a high value. Distributions that provide no information (such as `[1, 1, 1, 1, 1]` and `[1, 0, 0, 0, 0]`) have low scores. Having similarities differ from the truth (more similar to a different item than to the exact one) achieves even lower values. It is also impossible to achieve score of `0` with this metric, however this is not a major concern."
   ],
   "metadata": {
    "collapsed": false
   }
  },
  {
   "cell_type": "markdown",
   "metadata": {},
   "source": [
    "## Model training\n",
    "The code belows fine-tunes the pretrained models with the triplets from the training dataset. This is done for the Bert, DistilBert, and RoBERTa models. All of the trained models are stored in a pickle format to allow later access without needing to retrain the models again."
   ]
  },
  {
   "cell_type": "code",
   "execution_count": 2,
   "metadata": {},
   "outputs": [
    {
     "name": "stderr",
     "output_type": "stream",
     "text": [
      "C:\\Users\\Aurif\\AppData\\Local\\Packages\\PythonSoftwareFoundation.Python.3.10_qbz5n2kfra8p0\\LocalCache\\local-packages\\Python310\\site-packages\\torch\\optim\\lr_scheduler.py:139: UserWarning: Detected call of `lr_scheduler.step()` before `optimizer.step()`. In PyTorch 1.1.0 and later, you should call them in the opposite order: `optimizer.step()` before `lr_scheduler.step()`.  Failure to do this will result in PyTorch skipping the first value of the learning rate schedule. See more details at https://pytorch.org/docs/stable/optim.html#how-to-adjust-learning-rate\n",
      "  warnings.warn(\"Detected call of `lr_scheduler.step()` before `optimizer.step()`. \"\n"
     ]
    },
    {
     "name": "stdout",
     "output_type": "stream",
     "text": [
      "Train: [0/5371 (0%)]\tLoss: 11.185242\n",
      "Train: [100/5371 (2%)]\tLoss: 5.731047\n",
      "Train: [200/5371 (4%)]\tLoss: 6.335767\n",
      "Train: [300/5371 (6%)]\tLoss: 5.671490\n",
      "Train: [400/5371 (7%)]\tLoss: 5.770305\n",
      "Train: [500/5371 (9%)]\tLoss: 4.061690\n",
      "Train: [600/5371 (11%)]\tLoss: 5.902798\n",
      "Train: [700/5371 (13%)]\tLoss: 6.661523\n",
      "Train: [800/5371 (15%)]\tLoss: 4.379632\n",
      "Train: [900/5371 (17%)]\tLoss: 4.784111\n",
      "Train: [1000/5371 (19%)]\tLoss: 3.513095\n",
      "Train: [1100/5371 (20%)]\tLoss: 3.954347\n",
      "Train: [1200/5371 (22%)]\tLoss: 3.570581\n",
      "Train: [1300/5371 (24%)]\tLoss: 3.821434\n",
      "Train: [1400/5371 (26%)]\tLoss: 3.683206\n",
      "Train: [1500/5371 (28%)]\tLoss: 3.784428\n",
      "Epoch: 1/3. Train set: Average loss: 4.7146\n",
      "Train: [0/5371 (0%)]\tLoss: 10.240974\n",
      "Train: [100/5371 (2%)]\tLoss: 5.079950\n",
      "Train: [200/5371 (4%)]\tLoss: 4.276255\n",
      "Train: [300/5371 (6%)]\tLoss: 3.653752\n",
      "Train: [400/5371 (7%)]\tLoss: 4.260196\n",
      "Train: [500/5371 (9%)]\tLoss: 3.517990\n",
      "Train: [600/5371 (11%)]\tLoss: 3.381110\n",
      "Train: [700/5371 (13%)]\tLoss: 4.265030\n",
      "Train: [800/5371 (15%)]\tLoss: 3.599481\n",
      "Train: [900/5371 (17%)]\tLoss: 3.599495\n",
      "Train: [1000/5371 (19%)]\tLoss: 4.079455\n",
      "Train: [1100/5371 (20%)]\tLoss: 3.731596\n",
      "Train: [1200/5371 (22%)]\tLoss: 3.476178\n",
      "Train: [1300/5371 (24%)]\tLoss: 3.880966\n",
      "Train: [1400/5371 (26%)]\tLoss: 2.807259\n",
      "Train: [1500/5371 (28%)]\tLoss: 3.702574\n",
      "Epoch: 2/3. Train set: Average loss: 3.8055\n",
      "Train: [0/5371 (0%)]\tLoss: 0.981731\n",
      "Train: [100/5371 (2%)]\tLoss: 3.316989\n",
      "Train: [200/5371 (4%)]\tLoss: 3.730943\n",
      "Train: [300/5371 (6%)]\tLoss: 2.992091\n",
      "Train: [400/5371 (7%)]\tLoss: 2.412807\n",
      "Train: [500/5371 (9%)]\tLoss: 2.975975\n",
      "Train: [600/5371 (11%)]\tLoss: 3.884052\n",
      "Train: [700/5371 (13%)]\tLoss: 3.211392\n",
      "Train: [800/5371 (15%)]\tLoss: 3.721626\n",
      "Train: [900/5371 (17%)]\tLoss: 2.514788\n",
      "Train: [1000/5371 (19%)]\tLoss: 2.484637\n",
      "Train: [1100/5371 (20%)]\tLoss: 2.721646\n",
      "Train: [1200/5371 (22%)]\tLoss: 3.478154\n",
      "Train: [1300/5371 (24%)]\tLoss: 3.215982\n",
      "Train: [1400/5371 (26%)]\tLoss: 2.672068\n",
      "Train: [1500/5371 (28%)]\tLoss: 2.403471\n",
      "Epoch: 3/3. Train set: Average loss: 3.0413\n"
     ]
    },
    {
     "name": "stderr",
     "output_type": "stream",
     "text": [
      "C:\\Users\\Aurif\\AppData\\Local\\Packages\\PythonSoftwareFoundation.Python.3.10_qbz5n2kfra8p0\\LocalCache\\local-packages\\Python310\\site-packages\\torch\\optim\\lr_scheduler.py:139: UserWarning: Detected call of `lr_scheduler.step()` before `optimizer.step()`. In PyTorch 1.1.0 and later, you should call them in the opposite order: `optimizer.step()` before `lr_scheduler.step()`.  Failure to do this will result in PyTorch skipping the first value of the learning rate schedule. See more details at https://pytorch.org/docs/stable/optim.html#how-to-adjust-learning-rate\n",
      "  warnings.warn(\"Detected call of `lr_scheduler.step()` before `optimizer.step()`. \"\n"
     ]
    },
    {
     "name": "stdout",
     "output_type": "stream",
     "text": [
      "Train: [0/5371 (0%)]\tLoss: 10.067198\n",
      "Train: [100/5371 (2%)]\tLoss: 5.584477\n",
      "Train: [200/5371 (4%)]\tLoss: 5.765273\n",
      "Train: [300/5371 (6%)]\tLoss: 5.140297\n",
      "Train: [400/5371 (7%)]\tLoss: 5.321143\n",
      "Train: [500/5371 (9%)]\tLoss: 5.584893\n",
      "Train: [600/5371 (11%)]\tLoss: 5.545220\n",
      "Train: [700/5371 (13%)]\tLoss: 4.971832\n",
      "Train: [800/5371 (15%)]\tLoss: 4.146455\n",
      "Train: [900/5371 (17%)]\tLoss: 3.158454\n",
      "Train: [1000/5371 (19%)]\tLoss: 3.796669\n",
      "Train: [1100/5371 (20%)]\tLoss: 4.180141\n",
      "Train: [1200/5371 (22%)]\tLoss: 5.147162\n",
      "Train: [1300/5371 (24%)]\tLoss: 4.517372\n",
      "Train: [1400/5371 (26%)]\tLoss: 3.306258\n",
      "Train: [1500/5371 (28%)]\tLoss: 3.812942\n",
      "Epoch: 1/3. Train set: Average loss: 4.6551\n",
      "Train: [0/5371 (0%)]\tLoss: 0.000000\n",
      "Train: [100/5371 (2%)]\tLoss: 4.042134\n",
      "Train: [200/5371 (4%)]\tLoss: 4.090084\n",
      "Train: [300/5371 (6%)]\tLoss: 2.679219\n",
      "Train: [400/5371 (7%)]\tLoss: 3.605400\n",
      "Train: [500/5371 (9%)]\tLoss: 3.805888\n",
      "Train: [600/5371 (11%)]\tLoss: 2.995001\n",
      "Train: [700/5371 (13%)]\tLoss: 2.295758\n",
      "Train: [800/5371 (15%)]\tLoss: 2.945246\n",
      "Train: [900/5371 (17%)]\tLoss: 3.287746\n",
      "Train: [1000/5371 (19%)]\tLoss: 3.084664\n",
      "Train: [1100/5371 (20%)]\tLoss: 2.829180\n",
      "Train: [1200/5371 (22%)]\tLoss: 2.633538\n",
      "Train: [1300/5371 (24%)]\tLoss: 2.930592\n",
      "Train: [1400/5371 (26%)]\tLoss: 2.482000\n",
      "Train: [1500/5371 (28%)]\tLoss: 3.255796\n",
      "Epoch: 2/3. Train set: Average loss: 3.1130\n",
      "Train: [0/5371 (0%)]\tLoss: 0.000000\n",
      "Train: [100/5371 (2%)]\tLoss: 1.921426\n",
      "Train: [200/5371 (4%)]\tLoss: 3.293818\n",
      "Train: [300/5371 (6%)]\tLoss: 2.411950\n",
      "Train: [400/5371 (7%)]\tLoss: 2.510633\n",
      "Train: [500/5371 (9%)]\tLoss: 2.791015\n",
      "Train: [600/5371 (11%)]\tLoss: 2.568898\n",
      "Train: [700/5371 (13%)]\tLoss: 2.963729\n",
      "Train: [800/5371 (15%)]\tLoss: 2.176695\n",
      "Train: [900/5371 (17%)]\tLoss: 2.764268\n",
      "Train: [1000/5371 (19%)]\tLoss: 3.274770\n",
      "Train: [1100/5371 (20%)]\tLoss: 2.759739\n",
      "Train: [1200/5371 (22%)]\tLoss: 2.398104\n",
      "Train: [1300/5371 (24%)]\tLoss: 2.534935\n",
      "Train: [1400/5371 (26%)]\tLoss: 2.714747\n",
      "Train: [1500/5371 (28%)]\tLoss: 2.541675\n",
      "Epoch: 3/3. Train set: Average loss: 2.6496\n"
     ]
    },
    {
     "name": "stderr",
     "output_type": "stream",
     "text": [
      "Some weights of RobertaModel were not initialized from the model checkpoint at roberta-base and are newly initialized: ['roberta.pooler.dense.weight', 'roberta.pooler.dense.bias']\n",
      "You should probably TRAIN this model on a down-stream task to be able to use it for predictions and inference.\n"
     ]
    },
    {
     "name": "stdout",
     "output_type": "stream",
     "text": [
      "Train: [0/5371 (0%)]\tLoss: 0.000000\n",
      "Train: [100/5371 (2%)]\tLoss: 14.559117\n",
      "Train: [200/5371 (4%)]\tLoss: 6.791852\n",
      "Train: [300/5371 (6%)]\tLoss: 6.399161\n",
      "Train: [400/5371 (7%)]\tLoss: 7.312668\n"
     ]
    },
    {
     "ename": "KeyboardInterrupt",
     "evalue": "",
     "output_type": "error",
     "traceback": [
      "\u001B[1;31m---------------------------------------------------------------------------\u001B[0m",
      "\u001B[1;31mKeyboardInterrupt\u001B[0m                         Traceback (most recent call last)",
      "Cell \u001B[1;32mIn[2], line 14\u001B[0m\n\u001B[0;32m     12\u001B[0m train_model(PretrainedBert(), \u001B[38;5;124m\"\u001B[39m\u001B[38;5;124mbert_model\u001B[39m\u001B[38;5;124m\"\u001B[39m)\n\u001B[0;32m     13\u001B[0m train_model(PretrainedDistilBert(), \u001B[38;5;124m\"\u001B[39m\u001B[38;5;124mdistilbert_model\u001B[39m\u001B[38;5;124m\"\u001B[39m)\n\u001B[1;32m---> 14\u001B[0m \u001B[43mtrain_model\u001B[49m\u001B[43m(\u001B[49m\u001B[43mPretrainedRoberta\u001B[49m\u001B[43m(\u001B[49m\u001B[43m)\u001B[49m\u001B[43m,\u001B[49m\u001B[43m \u001B[49m\u001B[38;5;124;43m\"\u001B[39;49m\u001B[38;5;124;43mroberta_model\u001B[39;49m\u001B[38;5;124;43m\"\u001B[39;49m\u001B[43m)\u001B[49m\n",
      "Cell \u001B[1;32mIn[2], line 4\u001B[0m, in \u001B[0;36mtrain_model\u001B[1;34m(base, label)\u001B[0m\n\u001B[0;32m      2\u001B[0m \u001B[38;5;28;01mdef\u001B[39;00m \u001B[38;5;21mtrain_model\u001B[39m(base, label):\n\u001B[0;32m      3\u001B[0m     \u001B[38;5;28;01mtry\u001B[39;00m:\n\u001B[1;32m----> 4\u001B[0m         model \u001B[38;5;241m=\u001B[39m \u001B[43mTrainer\u001B[49m\u001B[43m(\u001B[49m\u001B[43mbase\u001B[49m\u001B[43m)\u001B[49m\u001B[38;5;241;43m.\u001B[39;49m\u001B[43mtrain\u001B[49m\u001B[43m(\u001B[49m\u001B[43mtrain_dataset\u001B[49m\u001B[43m,\u001B[49m\u001B[43m \u001B[49m\u001B[43mepochs\u001B[49m\u001B[38;5;241;43m=\u001B[39;49m\u001B[38;5;241;43m3\u001B[39;49m\u001B[43m)\u001B[49m\n\u001B[0;32m      5\u001B[0m         pickle\u001B[38;5;241m.\u001B[39mdump(model, \u001B[38;5;28mopen\u001B[39m(\u001B[38;5;124mf\u001B[39m\u001B[38;5;124m\"\u001B[39m\u001B[38;5;124m./../models/\u001B[39m\u001B[38;5;132;01m{\u001B[39;00mlabel\u001B[38;5;132;01m}\u001B[39;00m\u001B[38;5;124m\"\u001B[39m, \u001B[38;5;124m\"\u001B[39m\u001B[38;5;124mwb\u001B[39m\u001B[38;5;124m\"\u001B[39m))\n\u001B[0;32m      6\u001B[0m     \u001B[38;5;28;01mexcept\u001B[39;00m \u001B[38;5;167;01mException\u001B[39;00m \u001B[38;5;28;01mas\u001B[39;00m e:\n",
      "File \u001B[1;32md:\\PW\\NLP\\NLP_2023Z_Frytki\\P1_Final\\code\\training\\trainer.py:43\u001B[0m, in \u001B[0;36mTrainer.train\u001B[1;34m(self, train_data, epochs)\u001B[0m\n\u001B[0;32m     41\u001B[0m scheduler \u001B[38;5;241m=\u001B[39m lr_scheduler\u001B[38;5;241m.\u001B[39mStepLR(optimizer, \u001B[38;5;241m8\u001B[39m, gamma\u001B[38;5;241m=\u001B[39m\u001B[38;5;241m0.1\u001B[39m, last_epoch\u001B[38;5;241m=\u001B[39m\u001B[38;5;241m-\u001B[39m\u001B[38;5;241m1\u001B[39m)\n\u001B[0;32m     42\u001B[0m log_interval \u001B[38;5;241m=\u001B[39m \u001B[38;5;241m100\u001B[39m\n\u001B[1;32m---> 43\u001B[0m \u001B[43mfit\u001B[49m\u001B[43m(\u001B[49m\u001B[43mtrain_data\u001B[49m\u001B[43m,\u001B[49m\u001B[43m \u001B[49m\u001B[43mtrain_data\u001B[49m\u001B[43m,\u001B[49m\u001B[43m \u001B[49m\u001B[43mmodel\u001B[49m\u001B[43m,\u001B[49m\u001B[43m \u001B[49m\u001B[43mloss_fn\u001B[49m\u001B[43m,\u001B[49m\u001B[43m \u001B[49m\u001B[43moptimizer\u001B[49m\u001B[43m,\u001B[49m\u001B[43m \u001B[49m\u001B[43mscheduler\u001B[49m\u001B[43m,\u001B[49m\u001B[43m \u001B[49m\u001B[43mepochs\u001B[49m\u001B[43m,\u001B[49m\u001B[43m \u001B[49m\u001B[43mcuda\u001B[49m\u001B[43m,\u001B[49m\u001B[43m \u001B[49m\u001B[43mlog_interval\u001B[49m\u001B[43m)\u001B[49m\n\u001B[0;32m     45\u001B[0m \u001B[38;5;28;01mreturn\u001B[39;00m \u001B[38;5;28mself\u001B[39m\n",
      "File \u001B[1;32md:\\PW\\NLP\\NLP_2023Z_Frytki\\P1_Final\\code\\siamese_triplet\\trainer.py:23\u001B[0m, in \u001B[0;36mfit\u001B[1;34m(train_loader, val_loader, model, loss_fn, optimizer, scheduler, n_epochs, cuda, log_interval, metrics, start_epoch)\u001B[0m\n\u001B[0;32m     20\u001B[0m scheduler\u001B[38;5;241m.\u001B[39mstep()\n\u001B[0;32m     22\u001B[0m \u001B[38;5;66;03m# Train stage\u001B[39;00m\n\u001B[1;32m---> 23\u001B[0m train_loss, metrics \u001B[38;5;241m=\u001B[39m \u001B[43mtrain_epoch\u001B[49m\u001B[43m(\u001B[49m\u001B[43mtrain_loader\u001B[49m\u001B[43m,\u001B[49m\u001B[43m \u001B[49m\u001B[43mmodel\u001B[49m\u001B[43m,\u001B[49m\u001B[43m \u001B[49m\u001B[43mloss_fn\u001B[49m\u001B[43m,\u001B[49m\u001B[43m \u001B[49m\u001B[43moptimizer\u001B[49m\u001B[43m,\u001B[49m\u001B[43m \u001B[49m\u001B[43mcuda\u001B[49m\u001B[43m,\u001B[49m\u001B[43m \u001B[49m\u001B[43mlog_interval\u001B[49m\u001B[43m,\u001B[49m\u001B[43m \u001B[49m\u001B[43mmetrics\u001B[49m\u001B[43m)\u001B[49m\n\u001B[0;32m     25\u001B[0m message \u001B[38;5;241m=\u001B[39m \u001B[38;5;124m'\u001B[39m\u001B[38;5;124mEpoch: \u001B[39m\u001B[38;5;132;01m{}\u001B[39;00m\u001B[38;5;124m/\u001B[39m\u001B[38;5;132;01m{}\u001B[39;00m\u001B[38;5;124m. Train set: Average loss: \u001B[39m\u001B[38;5;132;01m{:.4f}\u001B[39;00m\u001B[38;5;124m'\u001B[39m\u001B[38;5;241m.\u001B[39mformat(epoch \u001B[38;5;241m+\u001B[39m \u001B[38;5;241m1\u001B[39m, n_epochs, train_loss)\n\u001B[0;32m     26\u001B[0m \u001B[38;5;28;01mfor\u001B[39;00m metric \u001B[38;5;129;01min\u001B[39;00m metrics:\n",
      "File \u001B[1;32md:\\PW\\NLP\\NLP_2023Z_Frytki\\P1_Final\\code\\siamese_triplet\\trainer.py:53\u001B[0m, in \u001B[0;36mtrain_epoch\u001B[1;34m(train_loader, model, loss_fn, optimizer, cuda, log_interval, metrics)\u001B[0m\n\u001B[0;32m     49\u001B[0m         target \u001B[38;5;241m=\u001B[39m target\u001B[38;5;241m.\u001B[39mcuda()\n\u001B[0;32m     52\u001B[0m optimizer\u001B[38;5;241m.\u001B[39mzero_grad()\n\u001B[1;32m---> 53\u001B[0m outputs \u001B[38;5;241m=\u001B[39m \u001B[43mmodel\u001B[49m\u001B[43m(\u001B[49m\u001B[38;5;241;43m*\u001B[39;49m\u001B[43mdata\u001B[49m\u001B[43m)\u001B[49m\n\u001B[0;32m     55\u001B[0m \u001B[38;5;28;01mif\u001B[39;00m \u001B[38;5;28mtype\u001B[39m(outputs) \u001B[38;5;129;01mnot\u001B[39;00m \u001B[38;5;129;01min\u001B[39;00m (\u001B[38;5;28mtuple\u001B[39m, \u001B[38;5;28mlist\u001B[39m):\n\u001B[0;32m     56\u001B[0m     outputs \u001B[38;5;241m=\u001B[39m (outputs,)\n",
      "File \u001B[1;32m~\\AppData\\Local\\Packages\\PythonSoftwareFoundation.Python.3.10_qbz5n2kfra8p0\\LocalCache\\local-packages\\Python310\\site-packages\\torch\\nn\\modules\\module.py:1501\u001B[0m, in \u001B[0;36mModule._call_impl\u001B[1;34m(self, *args, **kwargs)\u001B[0m\n\u001B[0;32m   1496\u001B[0m \u001B[38;5;66;03m# If we don't have any hooks, we want to skip the rest of the logic in\u001B[39;00m\n\u001B[0;32m   1497\u001B[0m \u001B[38;5;66;03m# this function, and just call forward.\u001B[39;00m\n\u001B[0;32m   1498\u001B[0m \u001B[38;5;28;01mif\u001B[39;00m \u001B[38;5;129;01mnot\u001B[39;00m (\u001B[38;5;28mself\u001B[39m\u001B[38;5;241m.\u001B[39m_backward_hooks \u001B[38;5;129;01mor\u001B[39;00m \u001B[38;5;28mself\u001B[39m\u001B[38;5;241m.\u001B[39m_backward_pre_hooks \u001B[38;5;129;01mor\u001B[39;00m \u001B[38;5;28mself\u001B[39m\u001B[38;5;241m.\u001B[39m_forward_hooks \u001B[38;5;129;01mor\u001B[39;00m \u001B[38;5;28mself\u001B[39m\u001B[38;5;241m.\u001B[39m_forward_pre_hooks\n\u001B[0;32m   1499\u001B[0m         \u001B[38;5;129;01mor\u001B[39;00m _global_backward_pre_hooks \u001B[38;5;129;01mor\u001B[39;00m _global_backward_hooks\n\u001B[0;32m   1500\u001B[0m         \u001B[38;5;129;01mor\u001B[39;00m _global_forward_hooks \u001B[38;5;129;01mor\u001B[39;00m _global_forward_pre_hooks):\n\u001B[1;32m-> 1501\u001B[0m     \u001B[38;5;28;01mreturn\u001B[39;00m forward_call(\u001B[38;5;241m*\u001B[39margs, \u001B[38;5;241m*\u001B[39m\u001B[38;5;241m*\u001B[39mkwargs)\n\u001B[0;32m   1502\u001B[0m \u001B[38;5;66;03m# Do not call functions when jit is used\u001B[39;00m\n\u001B[0;32m   1503\u001B[0m full_backward_hooks, non_full_backward_hooks \u001B[38;5;241m=\u001B[39m [], []\n",
      "File \u001B[1;32md:\\PW\\NLP\\NLP_2023Z_Frytki\\P1_Final\\code\\siamese_triplet\\networks.py:83\u001B[0m, in \u001B[0;36mTripletNet.forward\u001B[1;34m(self, x1, x2, x3)\u001B[0m\n\u001B[0;32m     81\u001B[0m output1 \u001B[38;5;241m=\u001B[39m \u001B[38;5;28mself\u001B[39m\u001B[38;5;241m.\u001B[39membedding_net(x1)\n\u001B[0;32m     82\u001B[0m output2 \u001B[38;5;241m=\u001B[39m \u001B[38;5;28mself\u001B[39m\u001B[38;5;241m.\u001B[39membedding_net(x2)\n\u001B[1;32m---> 83\u001B[0m output3 \u001B[38;5;241m=\u001B[39m \u001B[38;5;28;43mself\u001B[39;49m\u001B[38;5;241;43m.\u001B[39;49m\u001B[43membedding_net\u001B[49m\u001B[43m(\u001B[49m\u001B[43mx3\u001B[49m\u001B[43m)\u001B[49m\n\u001B[0;32m     84\u001B[0m \u001B[38;5;28;01mreturn\u001B[39;00m output1, output2, output3\n",
      "File \u001B[1;32m~\\AppData\\Local\\Packages\\PythonSoftwareFoundation.Python.3.10_qbz5n2kfra8p0\\LocalCache\\local-packages\\Python310\\site-packages\\torch\\nn\\modules\\module.py:1501\u001B[0m, in \u001B[0;36mModule._call_impl\u001B[1;34m(self, *args, **kwargs)\u001B[0m\n\u001B[0;32m   1496\u001B[0m \u001B[38;5;66;03m# If we don't have any hooks, we want to skip the rest of the logic in\u001B[39;00m\n\u001B[0;32m   1497\u001B[0m \u001B[38;5;66;03m# this function, and just call forward.\u001B[39;00m\n\u001B[0;32m   1498\u001B[0m \u001B[38;5;28;01mif\u001B[39;00m \u001B[38;5;129;01mnot\u001B[39;00m (\u001B[38;5;28mself\u001B[39m\u001B[38;5;241m.\u001B[39m_backward_hooks \u001B[38;5;129;01mor\u001B[39;00m \u001B[38;5;28mself\u001B[39m\u001B[38;5;241m.\u001B[39m_backward_pre_hooks \u001B[38;5;129;01mor\u001B[39;00m \u001B[38;5;28mself\u001B[39m\u001B[38;5;241m.\u001B[39m_forward_hooks \u001B[38;5;129;01mor\u001B[39;00m \u001B[38;5;28mself\u001B[39m\u001B[38;5;241m.\u001B[39m_forward_pre_hooks\n\u001B[0;32m   1499\u001B[0m         \u001B[38;5;129;01mor\u001B[39;00m _global_backward_pre_hooks \u001B[38;5;129;01mor\u001B[39;00m _global_backward_hooks\n\u001B[0;32m   1500\u001B[0m         \u001B[38;5;129;01mor\u001B[39;00m _global_forward_hooks \u001B[38;5;129;01mor\u001B[39;00m _global_forward_pre_hooks):\n\u001B[1;32m-> 1501\u001B[0m     \u001B[38;5;28;01mreturn\u001B[39;00m forward_call(\u001B[38;5;241m*\u001B[39margs, \u001B[38;5;241m*\u001B[39m\u001B[38;5;241m*\u001B[39mkwargs)\n\u001B[0;32m   1502\u001B[0m \u001B[38;5;66;03m# Do not call functions when jit is used\u001B[39;00m\n\u001B[0;32m   1503\u001B[0m full_backward_hooks, non_full_backward_hooks \u001B[38;5;241m=\u001B[39m [], []\n",
      "File \u001B[1;32md:\\PW\\NLP\\NLP_2023Z_Frytki\\P1_Final\\code\\training\\embedding_net.py:13\u001B[0m, in \u001B[0;36mEmbeddingNet.forward\u001B[1;34m(self, x)\u001B[0m\n\u001B[0;32m     11\u001B[0m \u001B[38;5;28;01mdef\u001B[39;00m \u001B[38;5;21mforward\u001B[39m(\u001B[38;5;28mself\u001B[39m, x):\n\u001B[0;32m     12\u001B[0m     output \u001B[38;5;241m=\u001B[39m \u001B[38;5;28mself\u001B[39m\u001B[38;5;241m.\u001B[39mtokenizer(x, return_tensors\u001B[38;5;241m=\u001B[39m\u001B[38;5;124m'\u001B[39m\u001B[38;5;124mpt\u001B[39m\u001B[38;5;124m'\u001B[39m)\u001B[38;5;241m.\u001B[39mto(\u001B[38;5;28mself\u001B[39m\u001B[38;5;241m.\u001B[39mdevice)\n\u001B[1;32m---> 13\u001B[0m     output \u001B[38;5;241m=\u001B[39m \u001B[38;5;28mself\u001B[39m\u001B[38;5;241m.\u001B[39mbase(\u001B[38;5;241m*\u001B[39m\u001B[38;5;241m*\u001B[39moutput)\n\u001B[0;32m     14\u001B[0m     \u001B[38;5;28;01mreturn\u001B[39;00m output[\u001B[38;5;124m'\u001B[39m\u001B[38;5;124mlast_hidden_state\u001B[39m\u001B[38;5;124m'\u001B[39m][\u001B[38;5;241m0\u001B[39m,\u001B[38;5;241m-\u001B[39m\u001B[38;5;241m1\u001B[39m,:]\n",
      "File \u001B[1;32m~\\AppData\\Local\\Packages\\PythonSoftwareFoundation.Python.3.10_qbz5n2kfra8p0\\LocalCache\\local-packages\\Python310\\site-packages\\torch\\nn\\modules\\module.py:1501\u001B[0m, in \u001B[0;36mModule._call_impl\u001B[1;34m(self, *args, **kwargs)\u001B[0m\n\u001B[0;32m   1496\u001B[0m \u001B[38;5;66;03m# If we don't have any hooks, we want to skip the rest of the logic in\u001B[39;00m\n\u001B[0;32m   1497\u001B[0m \u001B[38;5;66;03m# this function, and just call forward.\u001B[39;00m\n\u001B[0;32m   1498\u001B[0m \u001B[38;5;28;01mif\u001B[39;00m \u001B[38;5;129;01mnot\u001B[39;00m (\u001B[38;5;28mself\u001B[39m\u001B[38;5;241m.\u001B[39m_backward_hooks \u001B[38;5;129;01mor\u001B[39;00m \u001B[38;5;28mself\u001B[39m\u001B[38;5;241m.\u001B[39m_backward_pre_hooks \u001B[38;5;129;01mor\u001B[39;00m \u001B[38;5;28mself\u001B[39m\u001B[38;5;241m.\u001B[39m_forward_hooks \u001B[38;5;129;01mor\u001B[39;00m \u001B[38;5;28mself\u001B[39m\u001B[38;5;241m.\u001B[39m_forward_pre_hooks\n\u001B[0;32m   1499\u001B[0m         \u001B[38;5;129;01mor\u001B[39;00m _global_backward_pre_hooks \u001B[38;5;129;01mor\u001B[39;00m _global_backward_hooks\n\u001B[0;32m   1500\u001B[0m         \u001B[38;5;129;01mor\u001B[39;00m _global_forward_hooks \u001B[38;5;129;01mor\u001B[39;00m _global_forward_pre_hooks):\n\u001B[1;32m-> 1501\u001B[0m     \u001B[38;5;28;01mreturn\u001B[39;00m forward_call(\u001B[38;5;241m*\u001B[39margs, \u001B[38;5;241m*\u001B[39m\u001B[38;5;241m*\u001B[39mkwargs)\n\u001B[0;32m   1502\u001B[0m \u001B[38;5;66;03m# Do not call functions when jit is used\u001B[39;00m\n\u001B[0;32m   1503\u001B[0m full_backward_hooks, non_full_backward_hooks \u001B[38;5;241m=\u001B[39m [], []\n",
      "File \u001B[1;32m~\\AppData\\Local\\Packages\\PythonSoftwareFoundation.Python.3.10_qbz5n2kfra8p0\\LocalCache\\local-packages\\Python310\\site-packages\\transformers\\models\\roberta\\modeling_roberta.py:835\u001B[0m, in \u001B[0;36mRobertaModel.forward\u001B[1;34m(self, input_ids, attention_mask, token_type_ids, position_ids, head_mask, inputs_embeds, encoder_hidden_states, encoder_attention_mask, past_key_values, use_cache, output_attentions, output_hidden_states, return_dict)\u001B[0m\n\u001B[0;32m    826\u001B[0m head_mask \u001B[38;5;241m=\u001B[39m \u001B[38;5;28mself\u001B[39m\u001B[38;5;241m.\u001B[39mget_head_mask(head_mask, \u001B[38;5;28mself\u001B[39m\u001B[38;5;241m.\u001B[39mconfig\u001B[38;5;241m.\u001B[39mnum_hidden_layers)\n\u001B[0;32m    828\u001B[0m embedding_output \u001B[38;5;241m=\u001B[39m \u001B[38;5;28mself\u001B[39m\u001B[38;5;241m.\u001B[39membeddings(\n\u001B[0;32m    829\u001B[0m     input_ids\u001B[38;5;241m=\u001B[39minput_ids,\n\u001B[0;32m    830\u001B[0m     position_ids\u001B[38;5;241m=\u001B[39mposition_ids,\n\u001B[1;32m   (...)\u001B[0m\n\u001B[0;32m    833\u001B[0m     past_key_values_length\u001B[38;5;241m=\u001B[39mpast_key_values_length,\n\u001B[0;32m    834\u001B[0m )\n\u001B[1;32m--> 835\u001B[0m encoder_outputs \u001B[38;5;241m=\u001B[39m \u001B[38;5;28;43mself\u001B[39;49m\u001B[38;5;241;43m.\u001B[39;49m\u001B[43mencoder\u001B[49m\u001B[43m(\u001B[49m\n\u001B[0;32m    836\u001B[0m \u001B[43m    \u001B[49m\u001B[43membedding_output\u001B[49m\u001B[43m,\u001B[49m\n\u001B[0;32m    837\u001B[0m \u001B[43m    \u001B[49m\u001B[43mattention_mask\u001B[49m\u001B[38;5;241;43m=\u001B[39;49m\u001B[43mextended_attention_mask\u001B[49m\u001B[43m,\u001B[49m\n\u001B[0;32m    838\u001B[0m \u001B[43m    \u001B[49m\u001B[43mhead_mask\u001B[49m\u001B[38;5;241;43m=\u001B[39;49m\u001B[43mhead_mask\u001B[49m\u001B[43m,\u001B[49m\n\u001B[0;32m    839\u001B[0m \u001B[43m    \u001B[49m\u001B[43mencoder_hidden_states\u001B[49m\u001B[38;5;241;43m=\u001B[39;49m\u001B[43mencoder_hidden_states\u001B[49m\u001B[43m,\u001B[49m\n\u001B[0;32m    840\u001B[0m \u001B[43m    \u001B[49m\u001B[43mencoder_attention_mask\u001B[49m\u001B[38;5;241;43m=\u001B[39;49m\u001B[43mencoder_extended_attention_mask\u001B[49m\u001B[43m,\u001B[49m\n\u001B[0;32m    841\u001B[0m \u001B[43m    \u001B[49m\u001B[43mpast_key_values\u001B[49m\u001B[38;5;241;43m=\u001B[39;49m\u001B[43mpast_key_values\u001B[49m\u001B[43m,\u001B[49m\n\u001B[0;32m    842\u001B[0m \u001B[43m    \u001B[49m\u001B[43muse_cache\u001B[49m\u001B[38;5;241;43m=\u001B[39;49m\u001B[43muse_cache\u001B[49m\u001B[43m,\u001B[49m\n\u001B[0;32m    843\u001B[0m \u001B[43m    \u001B[49m\u001B[43moutput_attentions\u001B[49m\u001B[38;5;241;43m=\u001B[39;49m\u001B[43moutput_attentions\u001B[49m\u001B[43m,\u001B[49m\n\u001B[0;32m    844\u001B[0m \u001B[43m    \u001B[49m\u001B[43moutput_hidden_states\u001B[49m\u001B[38;5;241;43m=\u001B[39;49m\u001B[43moutput_hidden_states\u001B[49m\u001B[43m,\u001B[49m\n\u001B[0;32m    845\u001B[0m \u001B[43m    \u001B[49m\u001B[43mreturn_dict\u001B[49m\u001B[38;5;241;43m=\u001B[39;49m\u001B[43mreturn_dict\u001B[49m\u001B[43m,\u001B[49m\n\u001B[0;32m    846\u001B[0m \u001B[43m\u001B[49m\u001B[43m)\u001B[49m\n\u001B[0;32m    847\u001B[0m sequence_output \u001B[38;5;241m=\u001B[39m encoder_outputs[\u001B[38;5;241m0\u001B[39m]\n\u001B[0;32m    848\u001B[0m pooled_output \u001B[38;5;241m=\u001B[39m \u001B[38;5;28mself\u001B[39m\u001B[38;5;241m.\u001B[39mpooler(sequence_output) \u001B[38;5;28;01mif\u001B[39;00m \u001B[38;5;28mself\u001B[39m\u001B[38;5;241m.\u001B[39mpooler \u001B[38;5;129;01mis\u001B[39;00m \u001B[38;5;129;01mnot\u001B[39;00m \u001B[38;5;28;01mNone\u001B[39;00m \u001B[38;5;28;01melse\u001B[39;00m \u001B[38;5;28;01mNone\u001B[39;00m\n",
      "File \u001B[1;32m~\\AppData\\Local\\Packages\\PythonSoftwareFoundation.Python.3.10_qbz5n2kfra8p0\\LocalCache\\local-packages\\Python310\\site-packages\\torch\\nn\\modules\\module.py:1501\u001B[0m, in \u001B[0;36mModule._call_impl\u001B[1;34m(self, *args, **kwargs)\u001B[0m\n\u001B[0;32m   1496\u001B[0m \u001B[38;5;66;03m# If we don't have any hooks, we want to skip the rest of the logic in\u001B[39;00m\n\u001B[0;32m   1497\u001B[0m \u001B[38;5;66;03m# this function, and just call forward.\u001B[39;00m\n\u001B[0;32m   1498\u001B[0m \u001B[38;5;28;01mif\u001B[39;00m \u001B[38;5;129;01mnot\u001B[39;00m (\u001B[38;5;28mself\u001B[39m\u001B[38;5;241m.\u001B[39m_backward_hooks \u001B[38;5;129;01mor\u001B[39;00m \u001B[38;5;28mself\u001B[39m\u001B[38;5;241m.\u001B[39m_backward_pre_hooks \u001B[38;5;129;01mor\u001B[39;00m \u001B[38;5;28mself\u001B[39m\u001B[38;5;241m.\u001B[39m_forward_hooks \u001B[38;5;129;01mor\u001B[39;00m \u001B[38;5;28mself\u001B[39m\u001B[38;5;241m.\u001B[39m_forward_pre_hooks\n\u001B[0;32m   1499\u001B[0m         \u001B[38;5;129;01mor\u001B[39;00m _global_backward_pre_hooks \u001B[38;5;129;01mor\u001B[39;00m _global_backward_hooks\n\u001B[0;32m   1500\u001B[0m         \u001B[38;5;129;01mor\u001B[39;00m _global_forward_hooks \u001B[38;5;129;01mor\u001B[39;00m _global_forward_pre_hooks):\n\u001B[1;32m-> 1501\u001B[0m     \u001B[38;5;28;01mreturn\u001B[39;00m forward_call(\u001B[38;5;241m*\u001B[39margs, \u001B[38;5;241m*\u001B[39m\u001B[38;5;241m*\u001B[39mkwargs)\n\u001B[0;32m   1502\u001B[0m \u001B[38;5;66;03m# Do not call functions when jit is used\u001B[39;00m\n\u001B[0;32m   1503\u001B[0m full_backward_hooks, non_full_backward_hooks \u001B[38;5;241m=\u001B[39m [], []\n",
      "File \u001B[1;32m~\\AppData\\Local\\Packages\\PythonSoftwareFoundation.Python.3.10_qbz5n2kfra8p0\\LocalCache\\local-packages\\Python310\\site-packages\\transformers\\models\\roberta\\modeling_roberta.py:524\u001B[0m, in \u001B[0;36mRobertaEncoder.forward\u001B[1;34m(self, hidden_states, attention_mask, head_mask, encoder_hidden_states, encoder_attention_mask, past_key_values, use_cache, output_attentions, output_hidden_states, return_dict)\u001B[0m\n\u001B[0;32m    513\u001B[0m     layer_outputs \u001B[38;5;241m=\u001B[39m \u001B[38;5;28mself\u001B[39m\u001B[38;5;241m.\u001B[39m_gradient_checkpointing_func(\n\u001B[0;32m    514\u001B[0m         layer_module\u001B[38;5;241m.\u001B[39m\u001B[38;5;21m__call__\u001B[39m,\n\u001B[0;32m    515\u001B[0m         hidden_states,\n\u001B[1;32m   (...)\u001B[0m\n\u001B[0;32m    521\u001B[0m         output_attentions,\n\u001B[0;32m    522\u001B[0m     )\n\u001B[0;32m    523\u001B[0m \u001B[38;5;28;01melse\u001B[39;00m:\n\u001B[1;32m--> 524\u001B[0m     layer_outputs \u001B[38;5;241m=\u001B[39m \u001B[43mlayer_module\u001B[49m\u001B[43m(\u001B[49m\n\u001B[0;32m    525\u001B[0m \u001B[43m        \u001B[49m\u001B[43mhidden_states\u001B[49m\u001B[43m,\u001B[49m\n\u001B[0;32m    526\u001B[0m \u001B[43m        \u001B[49m\u001B[43mattention_mask\u001B[49m\u001B[43m,\u001B[49m\n\u001B[0;32m    527\u001B[0m \u001B[43m        \u001B[49m\u001B[43mlayer_head_mask\u001B[49m\u001B[43m,\u001B[49m\n\u001B[0;32m    528\u001B[0m \u001B[43m        \u001B[49m\u001B[43mencoder_hidden_states\u001B[49m\u001B[43m,\u001B[49m\n\u001B[0;32m    529\u001B[0m \u001B[43m        \u001B[49m\u001B[43mencoder_attention_mask\u001B[49m\u001B[43m,\u001B[49m\n\u001B[0;32m    530\u001B[0m \u001B[43m        \u001B[49m\u001B[43mpast_key_value\u001B[49m\u001B[43m,\u001B[49m\n\u001B[0;32m    531\u001B[0m \u001B[43m        \u001B[49m\u001B[43moutput_attentions\u001B[49m\u001B[43m,\u001B[49m\n\u001B[0;32m    532\u001B[0m \u001B[43m    \u001B[49m\u001B[43m)\u001B[49m\n\u001B[0;32m    534\u001B[0m hidden_states \u001B[38;5;241m=\u001B[39m layer_outputs[\u001B[38;5;241m0\u001B[39m]\n\u001B[0;32m    535\u001B[0m \u001B[38;5;28;01mif\u001B[39;00m use_cache:\n",
      "File \u001B[1;32m~\\AppData\\Local\\Packages\\PythonSoftwareFoundation.Python.3.10_qbz5n2kfra8p0\\LocalCache\\local-packages\\Python310\\site-packages\\torch\\nn\\modules\\module.py:1501\u001B[0m, in \u001B[0;36mModule._call_impl\u001B[1;34m(self, *args, **kwargs)\u001B[0m\n\u001B[0;32m   1496\u001B[0m \u001B[38;5;66;03m# If we don't have any hooks, we want to skip the rest of the logic in\u001B[39;00m\n\u001B[0;32m   1497\u001B[0m \u001B[38;5;66;03m# this function, and just call forward.\u001B[39;00m\n\u001B[0;32m   1498\u001B[0m \u001B[38;5;28;01mif\u001B[39;00m \u001B[38;5;129;01mnot\u001B[39;00m (\u001B[38;5;28mself\u001B[39m\u001B[38;5;241m.\u001B[39m_backward_hooks \u001B[38;5;129;01mor\u001B[39;00m \u001B[38;5;28mself\u001B[39m\u001B[38;5;241m.\u001B[39m_backward_pre_hooks \u001B[38;5;129;01mor\u001B[39;00m \u001B[38;5;28mself\u001B[39m\u001B[38;5;241m.\u001B[39m_forward_hooks \u001B[38;5;129;01mor\u001B[39;00m \u001B[38;5;28mself\u001B[39m\u001B[38;5;241m.\u001B[39m_forward_pre_hooks\n\u001B[0;32m   1499\u001B[0m         \u001B[38;5;129;01mor\u001B[39;00m _global_backward_pre_hooks \u001B[38;5;129;01mor\u001B[39;00m _global_backward_hooks\n\u001B[0;32m   1500\u001B[0m         \u001B[38;5;129;01mor\u001B[39;00m _global_forward_hooks \u001B[38;5;129;01mor\u001B[39;00m _global_forward_pre_hooks):\n\u001B[1;32m-> 1501\u001B[0m     \u001B[38;5;28;01mreturn\u001B[39;00m forward_call(\u001B[38;5;241m*\u001B[39margs, \u001B[38;5;241m*\u001B[39m\u001B[38;5;241m*\u001B[39mkwargs)\n\u001B[0;32m   1502\u001B[0m \u001B[38;5;66;03m# Do not call functions when jit is used\u001B[39;00m\n\u001B[0;32m   1503\u001B[0m full_backward_hooks, non_full_backward_hooks \u001B[38;5;241m=\u001B[39m [], []\n",
      "File \u001B[1;32m~\\AppData\\Local\\Packages\\PythonSoftwareFoundation.Python.3.10_qbz5n2kfra8p0\\LocalCache\\local-packages\\Python310\\site-packages\\transformers\\models\\roberta\\modeling_roberta.py:455\u001B[0m, in \u001B[0;36mRobertaLayer.forward\u001B[1;34m(self, hidden_states, attention_mask, head_mask, encoder_hidden_states, encoder_attention_mask, past_key_value, output_attentions)\u001B[0m\n\u001B[0;32m    452\u001B[0m     cross_attn_present_key_value \u001B[38;5;241m=\u001B[39m cross_attention_outputs[\u001B[38;5;241m-\u001B[39m\u001B[38;5;241m1\u001B[39m]\n\u001B[0;32m    453\u001B[0m     present_key_value \u001B[38;5;241m=\u001B[39m present_key_value \u001B[38;5;241m+\u001B[39m cross_attn_present_key_value\n\u001B[1;32m--> 455\u001B[0m layer_output \u001B[38;5;241m=\u001B[39m \u001B[43mapply_chunking_to_forward\u001B[49m\u001B[43m(\u001B[49m\n\u001B[0;32m    456\u001B[0m \u001B[43m    \u001B[49m\u001B[38;5;28;43mself\u001B[39;49m\u001B[38;5;241;43m.\u001B[39;49m\u001B[43mfeed_forward_chunk\u001B[49m\u001B[43m,\u001B[49m\u001B[43m \u001B[49m\u001B[38;5;28;43mself\u001B[39;49m\u001B[38;5;241;43m.\u001B[39;49m\u001B[43mchunk_size_feed_forward\u001B[49m\u001B[43m,\u001B[49m\u001B[43m \u001B[49m\u001B[38;5;28;43mself\u001B[39;49m\u001B[38;5;241;43m.\u001B[39;49m\u001B[43mseq_len_dim\u001B[49m\u001B[43m,\u001B[49m\u001B[43m \u001B[49m\u001B[43mattention_output\u001B[49m\n\u001B[0;32m    457\u001B[0m \u001B[43m\u001B[49m\u001B[43m)\u001B[49m\n\u001B[0;32m    458\u001B[0m outputs \u001B[38;5;241m=\u001B[39m (layer_output,) \u001B[38;5;241m+\u001B[39m outputs\n\u001B[0;32m    460\u001B[0m \u001B[38;5;66;03m# if decoder, return the attn key/values as the last output\u001B[39;00m\n",
      "File \u001B[1;32m~\\AppData\\Local\\Packages\\PythonSoftwareFoundation.Python.3.10_qbz5n2kfra8p0\\LocalCache\\local-packages\\Python310\\site-packages\\transformers\\pytorch_utils.py:241\u001B[0m, in \u001B[0;36mapply_chunking_to_forward\u001B[1;34m(forward_fn, chunk_size, chunk_dim, *input_tensors)\u001B[0m\n\u001B[0;32m    238\u001B[0m     \u001B[38;5;66;03m# concatenate output at same dimension\u001B[39;00m\n\u001B[0;32m    239\u001B[0m     \u001B[38;5;28;01mreturn\u001B[39;00m torch\u001B[38;5;241m.\u001B[39mcat(output_chunks, dim\u001B[38;5;241m=\u001B[39mchunk_dim)\n\u001B[1;32m--> 241\u001B[0m \u001B[38;5;28;01mreturn\u001B[39;00m \u001B[43mforward_fn\u001B[49m\u001B[43m(\u001B[49m\u001B[38;5;241;43m*\u001B[39;49m\u001B[43minput_tensors\u001B[49m\u001B[43m)\u001B[49m\n",
      "File \u001B[1;32m~\\AppData\\Local\\Packages\\PythonSoftwareFoundation.Python.3.10_qbz5n2kfra8p0\\LocalCache\\local-packages\\Python310\\site-packages\\transformers\\models\\roberta\\modeling_roberta.py:468\u001B[0m, in \u001B[0;36mRobertaLayer.feed_forward_chunk\u001B[1;34m(self, attention_output)\u001B[0m\n\u001B[0;32m    466\u001B[0m \u001B[38;5;28;01mdef\u001B[39;00m \u001B[38;5;21mfeed_forward_chunk\u001B[39m(\u001B[38;5;28mself\u001B[39m, attention_output):\n\u001B[0;32m    467\u001B[0m     intermediate_output \u001B[38;5;241m=\u001B[39m \u001B[38;5;28mself\u001B[39m\u001B[38;5;241m.\u001B[39mintermediate(attention_output)\n\u001B[1;32m--> 468\u001B[0m     layer_output \u001B[38;5;241m=\u001B[39m \u001B[38;5;28;43mself\u001B[39;49m\u001B[38;5;241;43m.\u001B[39;49m\u001B[43moutput\u001B[49m\u001B[43m(\u001B[49m\u001B[43mintermediate_output\u001B[49m\u001B[43m,\u001B[49m\u001B[43m \u001B[49m\u001B[43mattention_output\u001B[49m\u001B[43m)\u001B[49m\n\u001B[0;32m    469\u001B[0m     \u001B[38;5;28;01mreturn\u001B[39;00m layer_output\n",
      "File \u001B[1;32m~\\AppData\\Local\\Packages\\PythonSoftwareFoundation.Python.3.10_qbz5n2kfra8p0\\LocalCache\\local-packages\\Python310\\site-packages\\torch\\nn\\modules\\module.py:1501\u001B[0m, in \u001B[0;36mModule._call_impl\u001B[1;34m(self, *args, **kwargs)\u001B[0m\n\u001B[0;32m   1496\u001B[0m \u001B[38;5;66;03m# If we don't have any hooks, we want to skip the rest of the logic in\u001B[39;00m\n\u001B[0;32m   1497\u001B[0m \u001B[38;5;66;03m# this function, and just call forward.\u001B[39;00m\n\u001B[0;32m   1498\u001B[0m \u001B[38;5;28;01mif\u001B[39;00m \u001B[38;5;129;01mnot\u001B[39;00m (\u001B[38;5;28mself\u001B[39m\u001B[38;5;241m.\u001B[39m_backward_hooks \u001B[38;5;129;01mor\u001B[39;00m \u001B[38;5;28mself\u001B[39m\u001B[38;5;241m.\u001B[39m_backward_pre_hooks \u001B[38;5;129;01mor\u001B[39;00m \u001B[38;5;28mself\u001B[39m\u001B[38;5;241m.\u001B[39m_forward_hooks \u001B[38;5;129;01mor\u001B[39;00m \u001B[38;5;28mself\u001B[39m\u001B[38;5;241m.\u001B[39m_forward_pre_hooks\n\u001B[0;32m   1499\u001B[0m         \u001B[38;5;129;01mor\u001B[39;00m _global_backward_pre_hooks \u001B[38;5;129;01mor\u001B[39;00m _global_backward_hooks\n\u001B[0;32m   1500\u001B[0m         \u001B[38;5;129;01mor\u001B[39;00m _global_forward_hooks \u001B[38;5;129;01mor\u001B[39;00m _global_forward_pre_hooks):\n\u001B[1;32m-> 1501\u001B[0m     \u001B[38;5;28;01mreturn\u001B[39;00m forward_call(\u001B[38;5;241m*\u001B[39margs, \u001B[38;5;241m*\u001B[39m\u001B[38;5;241m*\u001B[39mkwargs)\n\u001B[0;32m   1502\u001B[0m \u001B[38;5;66;03m# Do not call functions when jit is used\u001B[39;00m\n\u001B[0;32m   1503\u001B[0m full_backward_hooks, non_full_backward_hooks \u001B[38;5;241m=\u001B[39m [], []\n",
      "File \u001B[1;32m~\\AppData\\Local\\Packages\\PythonSoftwareFoundation.Python.3.10_qbz5n2kfra8p0\\LocalCache\\local-packages\\Python310\\site-packages\\transformers\\models\\roberta\\modeling_roberta.py:380\u001B[0m, in \u001B[0;36mRobertaOutput.forward\u001B[1;34m(self, hidden_states, input_tensor)\u001B[0m\n\u001B[0;32m    378\u001B[0m \u001B[38;5;28;01mdef\u001B[39;00m \u001B[38;5;21mforward\u001B[39m(\u001B[38;5;28mself\u001B[39m, hidden_states: torch\u001B[38;5;241m.\u001B[39mTensor, input_tensor: torch\u001B[38;5;241m.\u001B[39mTensor) \u001B[38;5;241m-\u001B[39m\u001B[38;5;241m>\u001B[39m torch\u001B[38;5;241m.\u001B[39mTensor:\n\u001B[0;32m    379\u001B[0m     hidden_states \u001B[38;5;241m=\u001B[39m \u001B[38;5;28mself\u001B[39m\u001B[38;5;241m.\u001B[39mdense(hidden_states)\n\u001B[1;32m--> 380\u001B[0m     hidden_states \u001B[38;5;241m=\u001B[39m \u001B[38;5;28;43mself\u001B[39;49m\u001B[38;5;241;43m.\u001B[39;49m\u001B[43mdropout\u001B[49m\u001B[43m(\u001B[49m\u001B[43mhidden_states\u001B[49m\u001B[43m)\u001B[49m\n\u001B[0;32m    381\u001B[0m     hidden_states \u001B[38;5;241m=\u001B[39m \u001B[38;5;28mself\u001B[39m\u001B[38;5;241m.\u001B[39mLayerNorm(hidden_states \u001B[38;5;241m+\u001B[39m input_tensor)\n\u001B[0;32m    382\u001B[0m     \u001B[38;5;28;01mreturn\u001B[39;00m hidden_states\n",
      "File \u001B[1;32m~\\AppData\\Local\\Packages\\PythonSoftwareFoundation.Python.3.10_qbz5n2kfra8p0\\LocalCache\\local-packages\\Python310\\site-packages\\torch\\nn\\modules\\module.py:1501\u001B[0m, in \u001B[0;36mModule._call_impl\u001B[1;34m(self, *args, **kwargs)\u001B[0m\n\u001B[0;32m   1496\u001B[0m \u001B[38;5;66;03m# If we don't have any hooks, we want to skip the rest of the logic in\u001B[39;00m\n\u001B[0;32m   1497\u001B[0m \u001B[38;5;66;03m# this function, and just call forward.\u001B[39;00m\n\u001B[0;32m   1498\u001B[0m \u001B[38;5;28;01mif\u001B[39;00m \u001B[38;5;129;01mnot\u001B[39;00m (\u001B[38;5;28mself\u001B[39m\u001B[38;5;241m.\u001B[39m_backward_hooks \u001B[38;5;129;01mor\u001B[39;00m \u001B[38;5;28mself\u001B[39m\u001B[38;5;241m.\u001B[39m_backward_pre_hooks \u001B[38;5;129;01mor\u001B[39;00m \u001B[38;5;28mself\u001B[39m\u001B[38;5;241m.\u001B[39m_forward_hooks \u001B[38;5;129;01mor\u001B[39;00m \u001B[38;5;28mself\u001B[39m\u001B[38;5;241m.\u001B[39m_forward_pre_hooks\n\u001B[0;32m   1499\u001B[0m         \u001B[38;5;129;01mor\u001B[39;00m _global_backward_pre_hooks \u001B[38;5;129;01mor\u001B[39;00m _global_backward_hooks\n\u001B[0;32m   1500\u001B[0m         \u001B[38;5;129;01mor\u001B[39;00m _global_forward_hooks \u001B[38;5;129;01mor\u001B[39;00m _global_forward_pre_hooks):\n\u001B[1;32m-> 1501\u001B[0m     \u001B[38;5;28;01mreturn\u001B[39;00m forward_call(\u001B[38;5;241m*\u001B[39margs, \u001B[38;5;241m*\u001B[39m\u001B[38;5;241m*\u001B[39mkwargs)\n\u001B[0;32m   1502\u001B[0m \u001B[38;5;66;03m# Do not call functions when jit is used\u001B[39;00m\n\u001B[0;32m   1503\u001B[0m full_backward_hooks, non_full_backward_hooks \u001B[38;5;241m=\u001B[39m [], []\n",
      "File \u001B[1;32m~\\AppData\\Local\\Packages\\PythonSoftwareFoundation.Python.3.10_qbz5n2kfra8p0\\LocalCache\\local-packages\\Python310\\site-packages\\torch\\nn\\modules\\dropout.py:59\u001B[0m, in \u001B[0;36mDropout.forward\u001B[1;34m(self, input)\u001B[0m\n\u001B[0;32m     58\u001B[0m \u001B[38;5;28;01mdef\u001B[39;00m \u001B[38;5;21mforward\u001B[39m(\u001B[38;5;28mself\u001B[39m, \u001B[38;5;28minput\u001B[39m: Tensor) \u001B[38;5;241m-\u001B[39m\u001B[38;5;241m>\u001B[39m Tensor:\n\u001B[1;32m---> 59\u001B[0m     \u001B[38;5;28;01mreturn\u001B[39;00m \u001B[43mF\u001B[49m\u001B[38;5;241;43m.\u001B[39;49m\u001B[43mdropout\u001B[49m\u001B[43m(\u001B[49m\u001B[38;5;28;43minput\u001B[39;49m\u001B[43m,\u001B[49m\u001B[43m \u001B[49m\u001B[38;5;28;43mself\u001B[39;49m\u001B[38;5;241;43m.\u001B[39;49m\u001B[43mp\u001B[49m\u001B[43m,\u001B[49m\u001B[43m \u001B[49m\u001B[38;5;28;43mself\u001B[39;49m\u001B[38;5;241;43m.\u001B[39;49m\u001B[43mtraining\u001B[49m\u001B[43m,\u001B[49m\u001B[43m \u001B[49m\u001B[38;5;28;43mself\u001B[39;49m\u001B[38;5;241;43m.\u001B[39;49m\u001B[43minplace\u001B[49m\u001B[43m)\u001B[49m\n",
      "File \u001B[1;32m~\\AppData\\Local\\Packages\\PythonSoftwareFoundation.Python.3.10_qbz5n2kfra8p0\\LocalCache\\local-packages\\Python310\\site-packages\\torch\\nn\\functional.py:1252\u001B[0m, in \u001B[0;36mdropout\u001B[1;34m(input, p, training, inplace)\u001B[0m\n\u001B[0;32m   1250\u001B[0m \u001B[38;5;28;01mif\u001B[39;00m p \u001B[38;5;241m<\u001B[39m \u001B[38;5;241m0.0\u001B[39m \u001B[38;5;129;01mor\u001B[39;00m p \u001B[38;5;241m>\u001B[39m \u001B[38;5;241m1.0\u001B[39m:\n\u001B[0;32m   1251\u001B[0m     \u001B[38;5;28;01mraise\u001B[39;00m \u001B[38;5;167;01mValueError\u001B[39;00m(\u001B[38;5;124m\"\u001B[39m\u001B[38;5;124mdropout probability has to be between 0 and 1, \u001B[39m\u001B[38;5;124m\"\u001B[39m \u001B[38;5;124m\"\u001B[39m\u001B[38;5;124mbut got \u001B[39m\u001B[38;5;132;01m{}\u001B[39;00m\u001B[38;5;124m\"\u001B[39m\u001B[38;5;241m.\u001B[39mformat(p))\n\u001B[1;32m-> 1252\u001B[0m \u001B[38;5;28;01mreturn\u001B[39;00m _VF\u001B[38;5;241m.\u001B[39mdropout_(\u001B[38;5;28minput\u001B[39m, p, training) \u001B[38;5;28;01mif\u001B[39;00m inplace \u001B[38;5;28;01melse\u001B[39;00m \u001B[43m_VF\u001B[49m\u001B[38;5;241;43m.\u001B[39;49m\u001B[43mdropout\u001B[49m\u001B[43m(\u001B[49m\u001B[38;5;28;43minput\u001B[39;49m\u001B[43m,\u001B[49m\u001B[43m \u001B[49m\u001B[43mp\u001B[49m\u001B[43m,\u001B[49m\u001B[43m \u001B[49m\u001B[43mtraining\u001B[49m\u001B[43m)\u001B[49m\n",
      "\u001B[1;31mKeyboardInterrupt\u001B[0m: "
     ]
    }
   ],
   "source": [
    "train_dataset = DataLoader(PletsDataset(\"./../data\", \"train_preprocessed\"), batch_size=1)\n",
    "def train_model(base, label):\n",
    "    try:\n",
    "        model = Trainer(base).train(train_dataset, epochs=3)\n",
    "        pickle.dump(model, open(f\"./../models/{label}\", \"wb\"))\n",
    "    except Exception as e:\n",
    "        if e.args[0] == \"KeyboardInterrupt\":\n",
    "            raise e\n",
    "        else:\n",
    "            print(e)\n",
    "\n",
    "train_model(PretrainedBert(), \"bert_model\")\n",
    "train_model(PretrainedDistilBert(), \"distilbert_model\")\n",
    "train_model(PretrainedRoberta(), \"roberta_model\")"
   ]
  },
  {
   "cell_type": "markdown",
   "metadata": {},
   "source": [
    "## Ablation study - model architecture, training procedure\n",
    "Here we compare both the raw pretrained models and the fine-tuned ones for each of the architectures. This is done through both the execution time measured previously in this notebook, and through calculating the values of our multi-hierarchical metric on a subset of the test dataset."
   ]
  },
  {
   "cell_type": "code",
   "execution_count": 2,
   "metadata": {},
   "outputs": [
    {
     "name": "stderr",
     "output_type": "stream",
     "text": [
      "  7%|▋         | 1/15 [00:00<00:07,  1.89it/s]"
     ]
    },
    {
     "name": "stdout",
     "output_type": "stream",
     "text": [
      "[1.0, 0.9811779260635376, 0.9956138134002686, 0.9569826722145081]\n"
     ]
    },
    {
     "name": "stderr",
     "output_type": "stream",
     "text": [
      " 13%|█▎        | 2/15 [00:00<00:06,  2.06it/s]"
     ]
    },
    {
     "name": "stdout",
     "output_type": "stream",
     "text": [
      "[1.0, 0.9811779260635376, 0.7254902720451355, 0.9569826722145081]\n"
     ]
    },
    {
     "name": "stderr",
     "output_type": "stream",
     "text": [
      " 20%|██        | 3/15 [00:01<00:05,  2.15it/s]"
     ]
    },
    {
     "name": "stdout",
     "output_type": "stream",
     "text": [
      "[1.0, 0.9811779260635376, 0.9975031614303589, 0.9569826722145081]\n"
     ]
    },
    {
     "name": "stderr",
     "output_type": "stream",
     "text": [
      " 27%|██▋       | 4/15 [00:01<00:04,  2.27it/s]"
     ]
    },
    {
     "name": "stdout",
     "output_type": "stream",
     "text": [
      "[1.0, 0.9811779260635376, 0.9750349521636963, 0.9569826722145081]\n"
     ]
    },
    {
     "name": "stderr",
     "output_type": "stream",
     "text": [
      " 33%|███▎      | 5/15 [00:02<00:05,  1.83it/s]"
     ]
    },
    {
     "name": "stdout",
     "output_type": "stream",
     "text": [
      "[1.0, 0.9597380757331848, 0.686486542224884, 0.9481768012046814]\n"
     ]
    },
    {
     "name": "stderr",
     "output_type": "stream",
     "text": [
      " 40%|████      | 6/15 [00:03<00:05,  1.66it/s]"
     ]
    },
    {
     "name": "stdout",
     "output_type": "stream",
     "text": [
      "[1.0, 0.9597380757331848, 0.9513614177703857, 0.9481768012046814]\n"
     ]
    },
    {
     "name": "stderr",
     "output_type": "stream",
     "text": [
      " 47%|████▋     | 7/15 [00:03<00:05,  1.57it/s]"
     ]
    },
    {
     "name": "stdout",
     "output_type": "stream",
     "text": [
      "[1.0, 0.9597380757331848, 0.9499788284301758, 0.9481768012046814]\n"
     ]
    },
    {
     "name": "stderr",
     "output_type": "stream",
     "text": [
      " 53%|█████▎    | 8/15 [00:04<00:04,  1.49it/s]"
     ]
    },
    {
     "name": "stdout",
     "output_type": "stream",
     "text": [
      "[1.0, 0.9597380757331848, 0.6608355641365051, 0.9481768012046814]\n"
     ]
    },
    {
     "name": "stderr",
     "output_type": "stream",
     "text": [
      " 60%|██████    | 9/15 [00:05<00:04,  1.47it/s]"
     ]
    },
    {
     "name": "stdout",
     "output_type": "stream",
     "text": [
      "[1.0, 0.9597380757331848, 0.943268895149231, 0.9481768012046814]\n"
     ]
    },
    {
     "name": "stderr",
     "output_type": "stream",
     "text": [
      " 67%|██████▋   | 10/15 [00:06<00:03,  1.44it/s]"
     ]
    },
    {
     "name": "stdout",
     "output_type": "stream",
     "text": [
      "[1.0, 0.9597380757331848, 0.6813088655471802, 0.9481768012046814]\n"
     ]
    },
    {
     "name": "stderr",
     "output_type": "stream",
     "text": [
      " 73%|███████▎  | 11/15 [00:06<00:02,  1.43it/s]"
     ]
    },
    {
     "name": "stdout",
     "output_type": "stream",
     "text": [
      "[1.0, 0.9597380757331848, 0.9527252316474915, 0.9481768012046814]\n"
     ]
    },
    {
     "name": "stderr",
     "output_type": "stream",
     "text": [
      " 80%|████████  | 12/15 [00:07<00:01,  1.63it/s]"
     ]
    },
    {
     "name": "stdout",
     "output_type": "stream",
     "text": [
      "[1.0, 0.9768575429916382, 0.6272746324539185, 0.9772341847419739]\n"
     ]
    },
    {
     "name": "stderr",
     "output_type": "stream",
     "text": [
      " 87%|████████▋ | 13/15 [00:07<00:01,  1.81it/s]"
     ]
    },
    {
     "name": "stdout",
     "output_type": "stream",
     "text": [
      "[1.0, 0.9768575429916382, 0.9885523319244385, 0.9772341847419739]\n"
     ]
    },
    {
     "name": "stderr",
     "output_type": "stream",
     "text": [
      " 93%|█████████▎| 14/15 [00:08<00:00,  1.97it/s]"
     ]
    },
    {
     "name": "stdout",
     "output_type": "stream",
     "text": [
      "[1.0, 0.9768575429916382, 0.9840190410614014, 0.9772341847419739]\n"
     ]
    },
    {
     "name": "stderr",
     "output_type": "stream",
     "text": [
      " 93%|█████████▎| 14/15 [00:08<00:00,  1.65it/s]\n"
     ]
    },
    {
     "name": "stdout",
     "output_type": "stream",
     "text": [
      "[1.0, 0.9768575429916382, 0.9808449149131775, 0.9772341847419739]\n"
     ]
    },
    {
     "name": "stderr",
     "output_type": "stream",
     "text": [
      "  7%|▋         | 1/15 [00:00<00:03,  3.83it/s]"
     ]
    },
    {
     "name": "stdout",
     "output_type": "stream",
     "text": [
      "[0.9476534128189087, 0.9538512825965881, 0.9508057832717896, 0.9564324617385864]\n"
     ]
    },
    {
     "name": "stderr",
     "output_type": "stream",
     "text": [
      " 13%|█▎        | 2/15 [00:00<00:03,  3.98it/s]"
     ]
    },
    {
     "name": "stdout",
     "output_type": "stream",
     "text": [
      "[0.9537837505340576, 0.9514871835708618, 0.9492273926734924, 0.956266462802887]\n"
     ]
    },
    {
     "name": "stderr",
     "output_type": "stream",
     "text": [
      " 20%|██        | 3/15 [00:00<00:02,  4.05it/s]"
     ]
    },
    {
     "name": "stdout",
     "output_type": "stream",
     "text": [
      "[0.9445162415504456, 0.9553468823432922, 0.9604204893112183, 0.9506247043609619]\n"
     ]
    },
    {
     "name": "stderr",
     "output_type": "stream",
     "text": [
      " 27%|██▋       | 4/15 [00:00<00:02,  4.20it/s]"
     ]
    },
    {
     "name": "stdout",
     "output_type": "stream",
     "text": [
      "[0.94693922996521, 0.9507322311401367, 0.9532399773597717, 0.9419180154800415]\n"
     ]
    },
    {
     "name": "stderr",
     "output_type": "stream",
     "text": [
      " 33%|███▎      | 5/15 [00:01<00:03,  3.25it/s]"
     ]
    },
    {
     "name": "stdout",
     "output_type": "stream",
     "text": [
      "[0.9483597278594971, 0.9486910104751587, 0.949203610420227, 0.9542354345321655]\n"
     ]
    },
    {
     "name": "stderr",
     "output_type": "stream",
     "text": [
      " 40%|████      | 6/15 [00:01<00:03,  2.93it/s]"
     ]
    },
    {
     "name": "stdout",
     "output_type": "stream",
     "text": [
      "[0.9560816287994385, 0.945728600025177, 0.95486980676651, 0.9510737657546997]\n"
     ]
    },
    {
     "name": "stderr",
     "output_type": "stream",
     "text": [
      " 47%|████▋     | 7/15 [00:02<00:02,  2.74it/s]"
     ]
    },
    {
     "name": "stdout",
     "output_type": "stream",
     "text": [
      "[0.9412915110588074, 0.9441735744476318, 0.9487171173095703, 0.9512507915496826]\n"
     ]
    },
    {
     "name": "stderr",
     "output_type": "stream",
     "text": [
      " 53%|█████▎    | 8/15 [00:02<00:02,  2.60it/s]"
     ]
    },
    {
     "name": "stdout",
     "output_type": "stream",
     "text": [
      "[0.961908757686615, 0.9445012807846069, 0.9419769048690796, 0.9491645693778992]\n"
     ]
    },
    {
     "name": "stderr",
     "output_type": "stream",
     "text": [
      " 60%|██████    | 9/15 [00:03<00:02,  2.55it/s]"
     ]
    },
    {
     "name": "stdout",
     "output_type": "stream",
     "text": [
      "[0.9427945613861084, 0.9539462924003601, 0.957696795463562, 0.9492045640945435]\n"
     ]
    },
    {
     "name": "stderr",
     "output_type": "stream",
     "text": [
      " 67%|██████▋   | 10/15 [00:03<00:02,  2.48it/s]"
     ]
    },
    {
     "name": "stdout",
     "output_type": "stream",
     "text": [
      "[0.9530354738235474, 0.9627180099487305, 0.9474023580551147, 0.9494526386260986]\n"
     ]
    },
    {
     "name": "stderr",
     "output_type": "stream",
     "text": [
      " 73%|███████▎  | 11/15 [00:03<00:01,  2.47it/s]"
     ]
    },
    {
     "name": "stdout",
     "output_type": "stream",
     "text": [
      "[0.9417166709899902, 0.9568955302238464, 0.9497734904289246, 0.9528235197067261]\n"
     ]
    },
    {
     "name": "stderr",
     "output_type": "stream",
     "text": [
      " 80%|████████  | 12/15 [00:04<00:01,  2.87it/s]"
     ]
    },
    {
     "name": "stdout",
     "output_type": "stream",
     "text": [
      "[0.9501188397407532, 0.9475934505462646, 0.9444085359573364, 0.9511353969573975]\n"
     ]
    },
    {
     "name": "stderr",
     "output_type": "stream",
     "text": [
      " 87%|████████▋ | 13/15 [00:04<00:00,  3.18it/s]"
     ]
    },
    {
     "name": "stdout",
     "output_type": "stream",
     "text": [
      "[0.9418435096740723, 0.9484652280807495, 0.9493737816810608, 0.955552339553833]\n"
     ]
    },
    {
     "name": "stderr",
     "output_type": "stream",
     "text": [
      " 93%|█████████▎| 14/15 [00:04<00:00,  3.50it/s]"
     ]
    },
    {
     "name": "stdout",
     "output_type": "stream",
     "text": [
      "[0.9544762969017029, 0.9520158171653748, 0.9352498054504395, 0.9564002156257629]\n"
     ]
    },
    {
     "name": "stderr",
     "output_type": "stream",
     "text": [
      " 93%|█████████▎| 14/15 [00:04<00:00,  2.92it/s]"
     ]
    },
    {
     "name": "stdout",
     "output_type": "stream",
     "text": [
      "[0.9401679039001465, 0.9582657217979431, 0.9578885436058044, 0.951780378818512]\n"
     ]
    },
    {
     "name": "stderr",
     "output_type": "stream",
     "text": [
      "\n"
     ]
    }
   ],
   "source": [
    "models = {\n",
    "    \"Raw BERT\": PretrainedBert().train(),\n",
    "    \"Raw DistilBERT\": PretrainedDistilBert().train(),\n",
    "    \"Raw RoBERTa\": PretrainedRoberta().train(),\n",
    "    \"Trained BERT\": pickle.load(open(\"./../models/bert_model\", \"rb\")),\n",
    "    \"Trained DistilBERT\": pickle.load(open(\"./../models/distilbert_model\", \"rb\")),\n",
    "    # \"Trained RoBERTa\": pickle.load(open(\"./../models/roberta_model\", \"rb\"))\n",
    "}\n",
    "test_dataset = DataLoader(PletsDataset(\"./../data\", \"test_preprocessed\", direct=True))\n",
    "metric = HierachialMetric()\n",
    "\n",
    "df = pd.DataFrame(columns=[\"model\", \"score\"])\n",
    "for label, model in models.items():\n",
    "    comparator = ProductComparator(model)\n",
    "    score = metric.evaluate_dataset(comparator, test_dataset, limit=150)\n",
    "    df.loc[len(df)] = [label, score]"
   ]
  },
  {
   "cell_type": "code",
   "execution_count": 6,
   "metadata": {},
   "outputs": [
    {
     "name": "stdout",
     "output_type": "stream",
     "text": [
      "                model     score\n",
      "0            Raw BERT  0.772943\n",
      "1      Raw DistilBERT  0.762488\n",
      "2         Raw RoBERTa  0.753059\n",
      "3        Trained BERT  0.581942\n",
      "4  Trained DistilBERT  0.561562\n"
     ]
    },
    {
     "data": {
      "image/png": "[encoded data removed]",
      "text/plain": [
       "<Figure size 1000x600 with 1 Axes>"
      ]
     },
     "metadata": {},
     "output_type": "display_data"
    }
   ],
   "source": [
    "print(df)\n",
    "plt.figure(figsize=(10, 6))\n",
    "sns.barplot(x=\"model\", y=\"score\", data=df)\n",
    "plt.show()"
   ]
  },
  {
   "cell_type": "code",
   "execution_count": 10,
   "metadata": {},
   "outputs": [
    {
     "data": {
      "image/png": "[encoded data removed]",
      "text/plain": [
       "<Figure size 640x480 with 1 Axes>"
      ]
     },
     "metadata": {},
     "output_type": "display_data"
    }
   ],
   "source": [
    "# Plot for static data:\n",
    "# BERT: 36.72ms\n",
    "# DistilBERT: 17.83ms\n",
    "# RoBERTa: 35.59ms\n",
    "\n",
    "df = pd.DataFrame(columns=[\"model\", \"execution_time\"])\n",
    "df.loc[len(df)] = [\"BERT\", 36.72]\n",
    "df.loc[len(df)] = [\"DistilBERT\", 17.83]\n",
    "df.loc[len(df)] = [\"RoBERTa\", 35.59]\n",
    "sns.barplot(x=\"model\", y=\"execution_time\", data=df)\n",
    "plt.show()"
   ]
  },
  {
   "cell_type": "markdown",
   "source": [
    "To our surprise, the pretrained models achieved better scores than the fine-tuned ones. We analyzed this behaviour further and noted down our observations in the report. As to the scores between model architectures, there is no significant difference when it comes to the pretrained architectures. This, combined with the fact that DistilBERT executes twice as fast, makes it the best candidate for the use in the pipeline"
   ],
   "metadata": {
    "collapsed": false
   }
  }
 ],
 "metadata": {
  "kernelspec": {
   "display_name": "Python 3",
   "language": "python",
   "name": "python3"
  },
  "language_info": {
   "codemirror_mode": {
    "name": "ipython",
    "version": 3
   },
   "file_extension": ".py",
   "mimetype": "text/x-python",
   "name": "python",
   "nbconvert_exporter": "python",
   "pygments_lexer": "ipython3",
   "version": "3.10.11"
  }
 },
 "nbformat": 4,
 "nbformat_minor": 2
}
