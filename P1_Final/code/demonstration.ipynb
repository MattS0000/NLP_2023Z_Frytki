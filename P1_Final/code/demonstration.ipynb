{
 "cells": [
  {
   "cell_type": "code",
   "execution_count": 6,
   "metadata": {},
   "outputs": [],
   "source": [
    "from training.pretrained_bert import PretrainedBert\n",
    "from training.pretrained_distil_bert import PretrainedDistilBert\n",
    "from tests.similarity import item_comparison\n",
    "from comparison.product_comparator import ProductComparator"
   ]
  },
  {
   "cell_type": "markdown",
   "metadata": {},
   "source": [
    "## Demonstration of raw embedding comparison\n",
    "Results of running the product comparison algorithm on abstract test.   \n",
    "This part only uses the last two steps of the pipeline, that is embedding generation (in this case, based on a pretrained model) and embedding similarity calculation.  \n",
    "Both the value of similarity metric and the execution time will be measured."
   ]
  },
  {
   "cell_type": "markdown",
   "metadata": {},
   "source": [
    "### Bert"
   ]
  },
  {
   "cell_type": "code",
   "execution_count": 4,
   "metadata": {},
   "outputs": [
    {
     "name": "stdout",
     "output_type": "stream",
     "text": [
      "######## Comparison ########\n",
      "# Red apple                #\n",
      "# Green apple              #\n",
      "############################\n",
      "# Similarity: 0.99230      #\n",
      "# Execution time: 36.06ms  #\n",
      "############################\n",
      "\n",
      "######## Comparison ########\n",
      "# Red apple                #\n",
      "# Lemon                    #\n",
      "############################\n",
      "# Similarity: 0.97707      #\n",
      "# Execution time: 34.18ms  #\n",
      "############################\n",
      "\n",
      "######## Comparison ########\n",
      "# Red apple                #\n",
      "# Brick                    #\n",
      "############################\n",
      "# Similarity: 0.96443      #\n",
      "# Execution time: 34.49ms  #\n",
      "############################\n",
      "\n",
      "############ Comparison ############\n",
      "# Red apple                        #\n",
      "# Warsaw University of Technology  #\n",
      "####################################\n",
      "# Similarity: 0.93574              #\n",
      "# Execution time: 35.39ms          #\n",
      "####################################\n",
      "\n"
     ]
    }
   ],
   "source": [
    "model = ProductComparator(PretrainedBert().train())\n",
    "item_comparison(model, \"Red apple\", \"Green apple\")\n",
    "item_comparison(model, \"Red apple\", \"Lemon\")\n",
    "item_comparison(model, \"Red apple\", \"Brick\")\n",
    "item_comparison(model, \"Red apple\", \"Warsaw University of Technology\")"
   ]
  },
  {
   "cell_type": "markdown",
   "metadata": {},
   "source": [
    "### DistilBert"
   ]
  },
  {
   "cell_type": "code",
   "execution_count": 8,
   "metadata": {},
   "outputs": [
    {
     "name": "stdout",
     "output_type": "stream",
     "text": [
      "######## Comparison ########\n",
      "# Red apple                #\n",
      "# Green apple              #\n",
      "############################\n",
      "# Similarity: 0.99676      #\n",
      "# Execution time: 18.38ms  #\n",
      "############################\n",
      "\n",
      "######## Comparison ########\n",
      "# Red apple                #\n",
      "# Lemon                    #\n",
      "############################\n",
      "# Similarity: 0.98241      #\n",
      "# Execution time: 18.02ms  #\n",
      "############################\n",
      "\n",
      "######## Comparison ########\n",
      "# Red apple                #\n",
      "# Brick                    #\n",
      "############################\n",
      "# Similarity: 0.98176      #\n",
      "# Execution time: 17.75ms  #\n",
      "############################\n",
      "\n",
      "############ Comparison ############\n",
      "# Red apple                        #\n",
      "# Warsaw University of Technology  #\n",
      "####################################\n",
      "# Similarity: 0.95381              #\n",
      "# Execution time: 19.05ms          #\n",
      "####################################\n",
      "\n"
     ]
    }
   ],
   "source": [
    "model = ProductComparator(PretrainedDistilBert().train())\n",
    "item_comparison(model, \"Red apple\", \"Green apple\")\n",
    "item_comparison(model, \"Red apple\", \"Lemon\")\n",
    "item_comparison(model, \"Red apple\", \"Brick\")\n",
    "item_comparison(model, \"Red apple\", \"Warsaw University of Technology\")"
   ]
  },
  {
   "cell_type": "markdown",
   "metadata": {},
   "source": [
    "...info about results, explanation what happened, times and so on"
   ]
  }
 ],
 "metadata": {
  "kernelspec": {
   "display_name": "Python 3",
   "language": "python",
   "name": "python3"
  },
  "language_info": {
   "codemirror_mode": {
    "name": "ipython",
    "version": 3
   },
   "file_extension": ".py",
   "mimetype": "text/x-python",
   "name": "python",
   "nbconvert_exporter": "python",
   "pygments_lexer": "ipython3",
   "version": "3.10.11"
  }
 },
 "nbformat": 4,
 "nbformat_minor": 2
}
