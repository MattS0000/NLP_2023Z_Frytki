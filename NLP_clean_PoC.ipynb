{
  "cells": [
    {
      "cell_type": "markdown",
      "metadata": {
        "id": "GIQteNfkLo8X"
      },
      "source": [
        "# Setup"
      ]
    },
    {
      "cell_type": "markdown",
      "metadata": {},
      "source": [
        "Installing required libraries"
      ]
    },
    {
      "cell_type": "code",
      "execution_count": null,
      "metadata": {
        "id": "2nCqpojs5wkD"
      },
      "outputs": [],
      "source": [
        "!pip install sacremoses\n",
        "!pip install hugchat"
      ]
    },
    {
      "cell_type": "markdown",
      "metadata": {},
      "source": [
        "Class for similarity measure using BERT models"
      ]
    },
    {
      "cell_type": "code",
      "execution_count": 7,
      "metadata": {
        "id": "soXBSTBRvYQe"
      },
      "outputs": [],
      "source": [
        "from transformers import BertTokenizer, BertModel, DistilBertTokenizer, DistilBertModel\n",
        "from hugchat import hugchat\n",
        "from hugchat.login import Login\n",
        "import random\n",
        "import torch\n",
        "\n",
        "class Bert_similarity:\n",
        "  def __init__(self, pretrained_name, tokenizer_class, model_class, tokenizer_name=None):\n",
        "    self.device = \"cuda:0\" if torch.cuda.is_available() else \"cpu\"\n",
        "    self.pretrained_name = pretrained_name\n",
        "    self.tokenizer_name = tokenizer_name\n",
        "    if self.tokenizer_name is None:\n",
        "      self.tokenizer_name = self.pretrained_name\n",
        "    self.tokenizer = tokenizer_class.from_pretrained(self.tokenizer_name)\n",
        "    self.model = model_class.from_pretrained(self.pretrained_name).to(self.device)\n",
        "    self.__similarity = torch.nn.CosineSimilarity(dim=0, eps=1e-6)\n",
        "\n",
        "  def embedding(self, text):\n",
        "    encoded_input = self.tokenizer(text, return_tensors='pt').to(self.device)\n",
        "    output = self.model(**encoded_input)\n",
        "    #embedding extraction\n",
        "    return output['last_hidden_state'][0,-1,:]\n",
        "\n",
        "  def similarity(self, text1, text2):\n",
        "    embed1 = self.embedding(text1)\n",
        "    embed2 = self.embedding(text2)\n",
        "    sim = self.__similarity(embed1, embed2)\n",
        "    return sim"
      ]
    },
    {
      "cell_type": "markdown",
      "metadata": {
        "id": "5bAv_NcFueMB"
      },
      "source": [
        "# Bert Models"
      ]
    },
    {
      "cell_type": "code",
      "execution_count": 4,
      "metadata": {
        "colab": {
          "base_uri": "https://localhost:8080/"
        },
        "id": "-CStRcBRwJLL",
        "outputId": "6aae2d6c-e8a0-499c-b292-623398fd2167"
      },
      "outputs": [
        {
          "name": "stdout",
          "output_type": "stream",
          "text": [
            "tensor(0.9866, device='cuda:0', grad_fn=<SumBackward1>)\n"
          ]
        }
      ],
      "source": [
        "sim = Bert_similarity(\"bert-base-uncased\", BertTokenizer, BertModel)\n",
        "sim.similarity(\"Replace me by any text you'd like.\", \"Replace me by any text you'd hate.\")"
      ]
    },
    {
      "cell_type": "markdown",
      "metadata": {
        "id": "Jffcahqgyb6q"
      },
      "source": [
        "Similarity look alright, these sentences should be similar. Bert on gpu takes ~35.1ms [35.1 ms ± 4.33 ms per loop (mean ± std. dev. of 7 runs, 1000 loops each)]\n"
      ]
    },
    {
      "cell_type": "code",
      "execution_count": 5,
      "metadata": {
        "colab": {
          "base_uri": "https://localhost:8080/"
        },
        "id": "8VNRNm4S3jWE",
        "outputId": "02d1cb8e-cfa2-4e61-86f4-fda7986f5736"
      },
      "outputs": [
        {
          "name": "stdout",
          "output_type": "stream",
          "text": [
            "tensor(0.9849, device='cuda:0', grad_fn=<SumBackward1>)\n"
          ]
        }
      ],
      "source": [
        "sim2 = Bert_similarity(\"distilbert-base-uncased\", DistilBertTokenizer, DistilBertModel)\n",
        "sim2.similarity(\"Replace me by any text you'd like.\", \"Replace me by any text you'd hate.\")"
      ]
    },
    {
      "cell_type": "markdown",
      "metadata": {
        "id": "Ucno1jU74th9"
      },
      "source": [
        "Distilbert takes 17.9 ms ± 1.19 ms per loop (mean ± std. dev. of 7 runs, 1000 loops each)"
      ]
    },
    {
      "cell_type": "markdown",
      "metadata": {
        "id": "Q9BiF07UfXgm"
      },
      "source": [
        "# Hugchat\n",
        "\n",
        "https://github.com/Soulter/hugging-chat-api/tree/master\n",
        "\n",
        "API to https://huggingface.co/chat/ chat, which is a substitution for chat-gpt using LLama 2 hosted by huggingface.\n",
        "\n",
        "4 models are available:\n",
        "\n",
        "    meta-llama/Llama-2-70b-chat-hf - most likely our focus\n",
        "    codellama/CodeLlama-34b-Instruct-hf\n",
        "    tiiuae/falcon-180B-chat\n",
        "    mistralai/Mistral-7B-Instruct-v0.1\n",
        "\n",
        "Wrappers for the chat api and a function wrapping all of proof of concept code, end to end for a single pair."
      ]
    },
    {
      "cell_type": "code",
      "execution_count": null,
      "metadata": {
        "colab": {
          "base_uri": "https://localhost:8080/"
        },
        "id": "VZkyXD1PyTxQ",
        "outputId": "848d01d7-0c42-4296-a9da-462a50de57d6"
      },
      "outputs": [],
      "source": [
        "def login():\n",
        "  email = input(\"Input mail\")\n",
        "  password = input(\"Input password\")\n",
        "  sign = Login(email, password)\n",
        "  cookies = sign.login()\n",
        "  cookie_path_dir = \"./cookies_snapshot\"\n",
        "  sign.saveCookiesToDir(cookie_path_dir)\n",
        "  return hugchat.ChatBot(cookies=cookies.get_dict())\n",
        "\n",
        "CHATBOT = login()\n",
        "\n",
        "def query_wrapper(text):\n",
        "  id = CHATBOT.new_conversation()\n",
        "  CHATBOT.change_conversation(id)\n",
        "  return CHATBOT.query(text)\n",
        "\n",
        "def poc(similarity, title_left, description_left, title_right, description_right, prompt):\n",
        "  query_left = query_wrapper(prompt + description_left)\n",
        "  query_right = query_wrapper(prompt + description_right)\n",
        "  return similarity.similarity(title_left+str(query_left), title_right+str(query_right))"
      ]
    },
    {
      "cell_type": "markdown",
      "metadata": {
        "id": "t_OAd3C3Ss12"
      },
      "source": [
        "# Polish Data\n",
        "Polish dataset for e-commerce pairs comparison https://github.com/grant-TraDA/mlt4pm . Examples on two row samples."
      ]
    },
    {
      "cell_type": "code",
      "execution_count": 10,
      "metadata": {
        "id": "b0mNVPqFvZKc"
      },
      "outputs": [],
      "source": [
        "lenor_pl = {\"id_left\":2549,\"cluster_id_left\":\"8001841376004\",\"identifiers_left\":[{\"EAN\":[\"8001841376004\"]}],\"title_left\":\"lenor p\\u0142yn do p\\u0142ukania tkanin sparkling bloom yellow poppy\",\"description_left\":\"p\\u0142yn do p\\u0142ukania tkanin lenor zapewnia d\\u0142ugotrwa\\u0142\\u0105 \\u015bwie\\u017co\\u015b\\u0107 \\u015bwie\\u017co\\u015b\\u0107 po\\u015bcieli ka\\u017cdej nocy przez ca\\u0142y tydzie\\u0144 zapach sparkling bloom yellow poppy stopniowo uwalnia energetyzuj\\u0105ce aromaty o\\u017cywiaj\\u0105c twoje zmys\\u0142y eksplozj\\u0105 kwiatowej \\u015bwie\\u017co\\u015bci i daj\\u0105c ci poczucie komfortu aby w pe\\u0142ni cieszy\\u0107 si\\u0119 dzia\\u0142aniem swojego ulubionego p\\u0142ynu do zmi\\u0119kczania tkanin lenor u\\u017cywaj go razem z pere\\u0142kami zapachowymi lenor unstoppables \",\"brand_left\":\"lenor\",\"price_left\":\"14 99\",\"specTableContent_left\":\"amount 1 42 l capacity 1 42 l extras  image_url https www frisco pl pid 119361 n lenor plyn do plukania tkanin sparkling bloom yellow poppy stn product ingredients  5 kationowe \\u015brodki powierzchniowo czynne benzisothiazolinone kompozycje zapachowe alpha isomethyl ionone coumarin hexyl cinnamal origin  kraj pochodzenia czechy zapakowano w czechy  storage  url https www frisco pl pid 119361 n lenor plyn do plukania tkanin sparkling bloom yellow poppy stn product weight waga brutto 1471\",\"keyValuePairs_left\":{\"amount\":\"1 42 l\",\"capacity\":\"1 42 l\",\"extras\":\"\",\"image_url\":\"https www frisco pl pid 119361 n lenor plyn do plukania tkanin sparkling bloom yellow poppy stn product\",\"ingredients\":\" 5 kationowe \\u015brodki powierzchniowo czynne benzisothiazolinone kompozycje zapachowe alpha isomethyl ionone coumarin hexyl cinnamal\",\"origin\":\" kraj pochodzenia czechy zapakowano w czechy \",\"storage\":\"\",\"url\":\"https www frisco pl pid 119361 n lenor plyn do plukania tkanin sparkling bloom yellow poppy stn product\",\"weight\":\"waga brutto 1471\"},\"id_right\":2549,\"cluster_id_right\":\"8001841376004\",\"identifiers_right\":[{\"EAN\":[\"8001841376004\"]}],\"title_right\":\"lenor p\\u0142yn do p\\u0142ukania tkanin sparkling bloom yellow poppy\",\"description_right\":\"p\\u0142yn do p\\u0142ukania tkanin lenor zapewnia d\\u0142ugotrwa\\u0142\\u0105 \\u015bwie\\u017co\\u015b\\u0107 \\u015bwie\\u017co\\u015b\\u0107 po\\u015bcieli ka\\u017cdej nocy przez ca\\u0142y tydzie\\u0144 zapach sparkling bloom yellow poppy stopniowo uwalnia energetyzuj\\u0105ce aromaty o\\u017cywiaj\\u0105c twoje zmys\\u0142y eksplozj\\u0105 kwiatowej \\u015bwie\\u017co\\u015bci i daj\\u0105c ci poczucie komfortu aby w pe\\u0142ni cieszy\\u0107 si\\u0119 dzia\\u0142aniem swojego ulubionego p\\u0142ynu do zmi\\u0119kczania tkanin lenor u\\u017cywaj go razem z pere\\u0142kami zapachowymi lenor unstoppables \",\"brand_right\":\"lenor\",\"price_right\":\"14 99\",\"specTableContent_right\":\"amount 1 42 l capacity 1 42 l extras  image_url https www frisco pl pid 119361 n lenor plyn do plukania tkanin sparkling bloom yellow poppy stn product ingredients  5 kationowe \\u015brodki powierzchniowo czynne benzisothiazolinone kompozycje zapachowe alpha isomethyl ionone coumarin hexyl cinnamal origin  kraj pochodzenia czechy zapakowano w czechy  storage  url https www frisco pl pid 119361 n lenor plyn do plukania tkanin sparkling bloom yellow poppy stn product weight waga brutto 1471\",\"keyValuePairs_right\":{\"amount\":\"1 42 l\",\"capacity\":\"1 42 l\",\"extras\":\"\",\"image_url\":\"https www frisco pl pid 119361 n lenor plyn do plukania tkanin sparkling bloom yellow poppy stn product\",\"ingredients\":\" 5 kationowe \\u015brodki powierzchniowo czynne benzisothiazolinone kompozycje zapachowe alpha isomethyl ionone coumarin hexyl cinnamal\",\"origin\":\" kraj pochodzenia czechy zapakowano w czechy \",\"storage\":\"\",\"url\":\"https www frisco pl pid 119361 n lenor plyn do plukania tkanin sparkling bloom yellow poppy stn product\",\"weight\":\"waga brutto 1471\"},\"category_left\":\"chemia\",\"category_right\":\"chemia\",\"label\":1}\n",
        "sok_pl = {\"id_left\":629,\"cluster_id_left\":\"5906395223572\",\"identifiers_left\":[{\"EAN\":[\"5906395223572\"]}],\"title_left\":\"sady wincenta sok wieloowocowy w kartonie t\\u0142oczony\",\"description_left\":\"sady wincenta sok wieloowocowy w kartonie t\\u0142oczony sok wieloowocowy jab\\u0142kowo gruszkowo malinowo aroniowy naturalnie m\\u0119tny otrzymany w wyniku t\\u0142oczenia miazgi jab\\u0142kowej bez udzia\\u0142u enzym\\u00f3w filtrowany pasteryzowany bez dodatku jakichkolwiek substancji dodatkowych rozlewany na gor\\u0105co w atmosferze azotu i pakowany w systemie bag in box \",\"brand_left\":\"sady wincenta\",\"price_left\":\"16 99\",\"specTableContent_left\":\"amount 3 l capacity 3 l extras  image_url https www frisco pl pid 119683 n sady wincenta sok wieloowocowy w kartonie tloczony stn product ingredients jab\\u0142ko 65 gruszka 25 malina 5 aronia 5  origin  storage przechowywa\\u0107 w suchym i ch\\u0142odnym miejscu po otwarciu przechowywa\\u0107 w lod\\u00f3wce nie d\\u0142u\\u017cej ni\\u017c 14 dni  url https www frisco pl pid 119683 n sady wincenta sok wieloowocowy w kartonie tloczony stn product weight \",\"keyValuePairs_left\":{\"amount\":\"3 l\",\"capacity\":\"3 l\",\"extras\":\"\",\"image_url\":\"https www frisco pl pid 119683 n sady wincenta sok wieloowocowy w kartonie tloczony stn product\",\"ingredients\":\"jab\\u0142ko 65 gruszka 25 malina 5 aronia 5 \",\"origin\":\"\",\"storage\":\"przechowywa\\u0107 w suchym i ch\\u0142odnym miejscu po otwarciu przechowywa\\u0107 w lod\\u00f3wce nie d\\u0142u\\u017cej ni\\u017c 14 dni \",\"url\":\"https www frisco pl pid 119683 n sady wincenta sok wieloowocowy w kartonie tloczony stn product\",\"weight\":\"\"},\"id_right\":629,\"cluster_id_right\":\"5906395223572\",\"identifiers_right\":[{\"EAN\":[\"5906395223572\"]}],\"title_right\":\"sady wincenta sok wieloowocowy w kartonie t\\u0142oczony\",\"description_right\":\"sady wincenta sok wieloowocowy w kartonie t\\u0142oczony sok wieloowocowy jab\\u0142kowo gruszkowo malinowo aroniowy naturalnie m\\u0119tny otrzymany w wyniku t\\u0142oczenia miazgi jab\\u0142kowej bez udzia\\u0142u enzym\\u00f3w filtrowany pasteryzowany bez dodatku jakichkolwiek substancji dodatkowych rozlewany na gor\\u0105co w atmosferze azotu i pakowany w systemie bag in box \",\"brand_right\":\"sady wincenta\",\"price_right\":\"16 99\",\"specTableContent_right\":\"amount 3 l capacity 3 l extras  image_url https www frisco pl pid 119683 n sady wincenta sok wieloowocowy w kartonie tloczony stn product ingredients jab\\u0142ko 65 gruszka 25 malina 5 aronia 5  origin  storage przechowywa\\u0107 w suchym i ch\\u0142odnym miejscu po otwarciu przechowywa\\u0107 w lod\\u00f3wce nie d\\u0142u\\u017cej ni\\u017c 14 dni  url https www frisco pl pid 119683 n sady wincenta sok wieloowocowy w kartonie tloczony stn product weight \",\"keyValuePairs_right\":{\"amount\":\"3 l\",\"capacity\":\"3 l\",\"extras\":\"\",\"image_url\":\"https www frisco pl pid 119683 n sady wincenta sok wieloowocowy w kartonie tloczony stn product\",\"ingredients\":\"jab\\u0142ko 65 gruszka 25 malina 5 aronia 5 \",\"origin\":\"\",\"storage\":\"przechowywa\\u0107 w suchym i ch\\u0142odnym miejscu po otwarciu przechowywa\\u0107 w lod\\u00f3wce nie d\\u0142u\\u017cej ni\\u017c 14 dni \",\"url\":\"https www frisco pl pid 119683 n sady wincenta sok wieloowocowy w kartonie tloczony stn product\",\"weight\":\"\"},\"category_left\":\"napoje\",\"category_right\":\"napoje\",\"label\":1}"
      ]
    },
    {
      "cell_type": "code",
      "execution_count": 12,
      "metadata": {
        "colab": {
          "base_uri": "https://localhost:8080/"
        },
        "id": "TnPI7rcLv2zT",
        "outputId": "b949257a-ac98-4798-e86c-b1b8c5ad085b"
      },
      "outputs": [
        {
          "data": {
            "text/plain": [
              "('lenor płyn do płukania tkanin sparkling bloom yellow poppy',\n",
              " 'płyn do płukania tkanin lenor zapewnia długotrwałą świeżość świeżość pościeli każdej nocy przez cały tydzień zapach sparkling bloom yellow poppy stopniowo uwalnia energetyzujące aromaty ożywiając twoje zmysły eksplozją kwiatowej świeżości i dając ci poczucie komfortu aby w pełni cieszyć się działaniem swojego ulubionego płynu do zmiękczania tkanin lenor używaj go razem z perełkami zapachowymi lenor unstoppables ')"
            ]
          },
          "execution_count": 12,
          "metadata": {},
          "output_type": "execute_result"
        }
      ],
      "source": [
        "lenor_pl['title_left'], lenor_pl['description_left']"
      ]
    },
    {
      "cell_type": "code",
      "execution_count": 13,
      "metadata": {
        "colab": {
          "base_uri": "https://localhost:8080/"
        },
        "id": "LcLqwn65QoHw",
        "outputId": "a9ef6fe5-6434-46a9-b4d5-d2c100345825"
      },
      "outputs": [
        {
          "data": {
            "text/plain": [
              "('sady wincenta sok wieloowocowy w kartonie tłoczony',\n",
              " 'sady wincenta sok wieloowocowy w kartonie tłoczony sok wieloowocowy jabłkowo gruszkowo malinowo aroniowy naturalnie mętny otrzymany w wyniku tłoczenia miazgi jabłkowej bez udziału enzymów filtrowany pasteryzowany bez dodatku jakichkolwiek substancji dodatkowych rozlewany na gorąco w atmosferze azotu i pakowany w systemie bag in box ')"
            ]
          },
          "execution_count": 13,
          "metadata": {},
          "output_type": "execute_result"
        }
      ],
      "source": [
        "sok_pl['title_left'], sok_pl['description_left']"
      ]
    },
    {
      "cell_type": "code",
      "execution_count": 14,
      "metadata": {
        "id": "ucu3wDCJQx3q"
      },
      "outputs": [],
      "source": [
        "model_prompt = \"Extract key information from the product description provided. Focus on identifying essential features, specifications, and unique aspects of each product. Provide a concise summary with relevant details. Ensure that the extracted information is clear and captures the essence of the product's functionality and appeal. \""
      ]
    },
    {
      "cell_type": "markdown",
      "metadata": {},
      "source": [
        "Query to the hugchat api."
      ]
    },
    {
      "cell_type": "code",
      "execution_count": 18,
      "metadata": {
        "colab": {
          "base_uri": "https://localhost:8080/"
        },
        "id": "ZqukkEBXxu2O",
        "outputId": "ff369756-39c0-4bcd-b6a3-7a72357f5fc2"
      },
      "outputs": [
        {
          "name": "stdout",
          "output_type": "stream",
          "text": [
            " Product: Lenor Unstoppables Fabric Softener\n",
            "\n",
            "Essential Features:\n",
            "\n",
            "1. Long-lasting freshness\n",
            "2. Sparkling bloom scent\n",
            "3. Energizing aromas\n",
            "4. Comfortable feel\n",
            "5. Enhanced experience when used with Lenor Unstoppables perfume beads\n",
            "\n",
            "Specifications:\n",
            "\n",
            "1. Not specified\n",
            "\n",
            "Unique Aspects:\n",
            "\n",
            "1. Gradual release of energizing aromas\n",
            "2. Enhanced experience when used with Lenor Unstoppables perfume beads\n",
            "\n",
            "Summary:\n",
            "Lenor Unstoppables Fabric Softener provides long-lasting freshness with a sparkling bloom scent that gradually releases energizing aromas, giving users a comfortable feel and an enhanced experience when used with Lenor Unstoppables perfume beads. It is designed to provide a pleasant and invigorating experience for those who want to enjoy their favorite fabric softener to the fullest.\n"
          ]
        }
      ],
      "source": [
        "polish_query = query_wrapper(model_prompt + lenor_pl['description_left'])\n",
        "print(polish_query)"
      ]
    },
    {
      "cell_type": "code",
      "execution_count": 19,
      "metadata": {
        "colab": {
          "base_uri": "https://localhost:8080/"
        },
        "id": "t3trXhHS9ayj",
        "outputId": "2ffc5af9-ff7d-4c22-bad0-3c7de5e93c68"
      },
      "outputs": [
        {
          "name": "stdout",
          "output_type": "stream",
          "text": [
            " Product: Sady Wincenta Sok Wieloowocowy\n",
            "\n",
            "Essential Features:\n",
            "\n",
            "1. Multi-fruit juice made from apples, pears, raspberries, and blackberries\n",
            "2. Natural cloudiness obtained through pressing without added enzymes or preservatives\n",
            "3. Filtered and pasteurized\n",
            "4. Packaged in a bag-in-box system\n",
            "\n",
            "Specifications:\n",
            "\n",
            "1. Made from 100% fruit juice\n",
            "2. No added sugars or artificial flavors\n",
            "3. Cloudy appearance due to natural sedimentation\n",
            "4. Pasteurization process ensures food safety and extends shelf life\n",
            "\n",
            "Unique Aspects:\n",
            "\n",
            "1. Use of a bag-in-box packaging system for convenient storage and dispensing\n",
            "2. Natural cloudiness gives the juice a homemade taste and texture\n",
            "3. Absent of any additives or preservatives, making it a healthier choice for consumers\n",
            "\n",
            "Summary:\n",
            "Sady Wincenta Sok Wieloowocowy is a multi-fruit juice made from apples, pears, raspberries, and blackberries, featuring a natural cloudiness obtained through pressing without added enzymes or preservatives. It is filtered and pasteurized to ensure food safety and extend its shelf life, then packaged in a convenient bag-in-box system. This product stands out for its absence of added sugars or artificial flavors, giving consumers a healthier and more natural juice option.\n"
          ]
        }
      ],
      "source": [
        "polish_query_sok = query_wrapper(model_prompt + sok_pl['description_left'])\n",
        "print(polish_query_sok)"
      ]
    },
    {
      "cell_type": "markdown",
      "metadata": {
        "id": "gWawWCr4xrFv"
      },
      "source": [
        "Chat gpt attempt for comparison:\n",
        "\n",
        "Certainly! Here are the crucial tags extracted from the Polish product description:\n",
        "\n",
        "    Płyn do płukania tkanin\n",
        "    Lenor\n",
        "    Długotrwała świeżość\n",
        "    Zapach Sparkling Bloom Yellow Poppy\n",
        "    Świeżość pościeli\n",
        "    Energetyzujące aromaty\n",
        "    Eksplozja kwiatowej świeżości\n",
        "    Poczucie komfortu\n",
        "    Ulubiony płyn do zmiękczania tkanin\n",
        "    Perełki zapachowe\n",
        "    Lenor Unstoppables\n",
        "\n",
        "It is interesting that it returned the tags in polish, while the other one was in english. We can measure similarity by adding the tags text to item title. These two items are different obviously, but the scores are high. The difference between manual and wrapped code is attributed to random seed in the chat queries."
      ]
    },
    {
      "cell_type": "code",
      "execution_count": 24,
      "metadata": {
        "colab": {
          "base_uri": "https://localhost:8080/"
        },
        "id": "QitSqQzfw2Gf",
        "outputId": "5f619bd2-4f06-48c9-e25d-191a0452fbb8"
      },
      "outputs": [
        {
          "data": {
            "text/plain": [
              "tensor(0.9426, grad_fn=<SumBackward1>)"
            ]
          },
          "execution_count": 24,
          "metadata": {},
          "output_type": "execute_result"
        }
      ],
      "source": [
        "sim.similarity(lenor_pl['title_left']+str(polish_query), sok_pl['title_left']+str(polish_query_sok))"
      ]
    },
    {
      "cell_type": "code",
      "execution_count": 27,
      "metadata": {
        "colab": {
          "base_uri": "https://localhost:8080/"
        },
        "id": "J-DwHxF8VRms",
        "outputId": "38c6daee-b23d-4429-a182-4fd1df380d14"
      },
      "outputs": [
        {
          "data": {
            "text/plain": [
              "tensor(0.9682, grad_fn=<SumBackward1>)"
            ]
          },
          "execution_count": 27,
          "metadata": {},
          "output_type": "execute_result"
        }
      ],
      "source": [
        "poc(sim, lenor_pl['title_left'], lenor_pl['description_left'], sok_pl['title_right'], sok_pl['description_right'], model_prompt)"
      ]
    },
    {
      "cell_type": "markdown",
      "metadata": {
        "id": "jGMFLB8cSqxe"
      },
      "source": [
        "# English data\n",
        "Similar dataset in english: https://webdatacommons.org/largescaleproductcorpus/v2/index.html . We test few different row samples."
      ]
    },
    {
      "cell_type": "code",
      "execution_count": 29,
      "metadata": {
        "id": "9dHNxBPC5ryg"
      },
      "outputs": [],
      "source": [
        "negative = {\"brand_left\":\"amd\",\"brand_right\":\"gigabyte\",\"category_left\":\"Computers_and_Accessories\",\"category_right\":\"Computers_and_Accessories\",\"cluster_id_left\":355117,\"cluster_id_right\":152098,\"description_left\":\"six core technology unlocked multiplier 3 50ghz clock speed 6mb l2 cache 6mb l3 cache hypertransport 3 0 technology 3 year warranty\",\"description_right\":\"amd 990fx chipset x4 ddr3 x3 pci e x16 x1 pci e x1 x2 pci x6 sata 6gb s x1 gigabit lan x2 usb 3 0 x14 usb 2 0 realtek hd 7 1 audio sli xfire support\",\"id_left\":11185963,\"id_right\":14492431,\"identifiers_left\":[{\"\\/productID\":\"[amdfx6300]\"},{\"\\/mpn\":\"[fd6300wmhkbox]\"}],\"identifiers_right\":[{\"\\/mpn\":\"[ga990xaud3]\"},{\"\\/gtin13\":\"[4719331818135]\"}],\"keyValuePairs_left\":{\"processor number\":\"6300 black edition\",\"socket\":\"am3\",\"architecture\":\"32 nm technology\",\"clock speed\":\"3 50ghz\",\"cores\":\"6\",\"cache\":\"6 mb l2 6mb l3\",\"memory controller\":\"dual channel ddr3 800 1066 1333 1600mhz\",\"tdp\":\"95w\",\"heatsink included\":\"yes\",\"warranty\":\"3 years\"},\"keyValuePairs_right\":None,\"label\":0,\"pair_id\":\"11185963#14492431\",\"price_left\":None,\"price_right\":None,\"specTableContent_left\":\"processor number 6300 black edition socket am3 architecture 32 nm technology clock speed 3 50ghz cores 6 cache 6 mb l2 6mb l3 memory controller dual channel ddr3 800 1066 1333 1600mhz tdp 95w heatsink included yes warranty 3 years\",\"specTableContent_right\":None,\"title_left\":\"amd piledriver fx 6 six core 6300 black edition 3 50ghz socket am3 processor retail am3plus fd6300wmhkbox novatech\",\"title_right\":\"gigabyte 990xa ud3 amd 990x socket am3 ddr3 motherboard ocuk\"}\n",
        "positive = {\"brand_left\":\"intel\",\"brand_right\":None,\"category_left\":\"Computers_and_Accessories\",\"category_right\":\"Computers_and_Accessories\",\"cluster_id_left\":7209527,\"cluster_id_right\":7209527,\"description_left\":None,\"description_right\":\"the intel ssd dc p3600 series is a pcie gen3 ssd architected with the high performance controller interface non volatile memory express nvme delivering leading performance low latency and quality of service matching the performance with world class reliability and endurance intel ssd dc p3600 series offers a range of capacity 1 2 tb in both add in card and 2 5 inch form factor with pcie gen3 support and nvme queuing interface the intel ssd dc p3600 series delivers excellent sequential read performance of up to 2 8 gb s and sequential write speeds of up to 1700 mb s intel ssd dc p3600 series delivers very high random read iops of 450 k and random write iops of 70 k for 4 kb operations taking advantage of the direct path from the storage to the cpu by means of nvme intel ssd dc p3600 series exhibits low latency of less than 20 s for sequential access to the ssd the 2 5 inch intel ssd dc p3600 series takes advantage of the 8639 connector and provides hot pluggable removal and insertion providing in service replacement options\",\"id_left\":6023438,\"id_right\":15856907,\"identifiers_left\":[{\"\\/mpn\":\"[ssdpedme012t401]\"}],\"identifiers_right\":[{\"\\/gtin8\":\"[43201830]\"},{\"\\/mpn\":\"[ssdpedme012t401]\"}],\"keyValuePairs_left\":None,\"keyValuePairs_right\":None,\"label\":1,\"pair_id\":\"6023438#15856907\",\"price_left\":None,\"price_right\":None,\"specTableContent_left\":None,\"specTableContent_right\":None,\"title_left\":\"intel dc p3600 1 2tb pci e solid state drive ssdpedme012t401 pcpartpicker united kingdom\",\"title_right\":\"intel solid state drive dc p3600 series 1 2 tb pci ssdpedme012t401 drives ssds cdwg com\"}\n",
        "positive2 = {\"brand_left\":\"hp enterprise\",\"brand_right\":\"hp enterprise\",\"category_left\":\"Computers_and_Accessories\",\"category_right\":\"Computers_and_Accessories\",\"cluster_id_left\":2224466,\"cluster_id_right\":2224466,\"description_left\":\"description proliant bl20p g2 1p 3 06ghz 512mb fc manufacturer part 323146 b21\",\"description_right\":\"description pl bl20p 3 06 xeon 1p m1 512k sa5i nc7781 ilo manufacturer part 323146 b21\",\"id_left\":2673261,\"id_right\":8786270,\"identifiers_left\":[{\"\\/sku\":\"[323146b21]\"},{\"\\/mpn\":\"[323146b21]\"}],\"identifiers_right\":[{\"\\/sku\":\"[323146b21]\"},{\"\\/mpn\":\"[323146b21]\"}],\"keyValuePairs_left\":{\"category\":\"proliant server\",\"sub category\":\"bl20\",\"generation\":\"g2\",\"part number\":\"323146 b21\",\"products id\":\"15400\",\"chassis form factor\":\"blade\",\"model\":\"hp proliant bl20p\",\"cache memory installed\":\"512 kb\",\"ram installed\":\"512 mb\",\"ram technology\":\"ddr sdram\",\"ram maximum\":\"8 gb\",\"networking protocol\":\"ethernet\",\"controller raid level\":\"raid 0 raid 1 raid 10 raid 5\",\"weight\":\"50 lbs\",\"\":\"\"},\"keyValuePairs_right\":{\"category\":\"proliant server\",\"sub category\":\"bl20\",\"generation\":\"\",\"part number\":\"323146 b21\",\"products id\":\"6184\",\"chassis form factor\":\"blade\",\"model\":\"hp proliant bl20p\",\"cache memory installed\":\"512 kb\",\"ram installed\":\"512 mb\",\"ram technology\":\"ddr sdram\",\"ram maximum\":\"8 gb\",\"networking protocol\":\"ethernet fast ethernet gb ethernet\",\"storage controller raid level\":\"raid 0 raid 1 raid 10 raid 5\",\"actual weight\":\"50 lbs\",\"\":\"\"},\"label\":1,\"pair_id\":\"2673261#8786270\",\"price_left\":None,\"price_right\":None,\"specTableContent_left\":\"specifications category proliant server sub category bl20 generation g2 part number 323146 b21 products id 15400 chassis form factor blade model hp proliant bl20p cache memory installed 512 kb ram installed 512 mb ram technology ddr sdram ram maximum 8 gb networking protocol ethernet controller raid level raid 0 raid 1 raid 10 raid 5 weight 50 lbs\",\"specTableContent_right\":\"specifications category proliant server sub category bl20 generation part number 323146 b21 products id 6184 chassis form factor blade model hp proliant bl20p cache memory installed 512 kb ram installed 512 mb ram technology ddr sdram ram maximum 8 gb networking protocol ethernet fast ethernet gb ethernet storage controller raid level raid 0 raid 1 raid 10 raid 5 actual weight 50 lbs\",\"title_left\":\"null , 323146 b21 bl20p g2 1p xeon 3 06ghz wholesale price\",\"title_right\":\"323146 b21 bl20p xeon 3 06ghz , null wholesale price\"}\n",
        "positive3 = {\"brand_left\":\"intel\",\"brand_right\":None,\"category_left\":\"Computers_and_Accessories\",\"category_right\":\"Computers_and_Accessories\",\"cluster_id_left\":74810,\"cluster_id_right\":74810,\"description_left\":\"quad core with hyperthreading technology 3 60ghz clock speed 22nm process 8mb l3 cache dual channel ddr3 controller integrated hd 4600 graphics 3 year warranty\",\"description_right\":\"micro intel i7 4790 lga 1150 quad core 3 6ghz 8mb\",\"id_left\":10446386,\"id_right\":17540927,\"identifiers_left\":[{\"\\/mpn\":\"[bx80646i74790]\"},{\"\\/gtin13\":\"[5032037061551]\"}],\"identifiers_right\":[{\"\\/sku\":\"[bx80646i74790]\"}],\"keyValuePairs_left\":None,\"keyValuePairs_right\":None,\"label\":1,\"pair_id\":\"10446386#17540927\",\"price_left\":None,\"price_right\":None,\"specTableContent_left\":None,\"specTableContent_right\":None,\"title_left\":\"intel core i7 4790 3 60ghz haswell socket lga1150 processor retail processo ocuk\",\"title_right\":\"micro intel i7 4790 lga 1150\"}"
      ]
    },
    {
      "cell_type": "code",
      "execution_count": null,
      "metadata": {
        "colab": {
          "base_uri": "https://localhost:8080/"
        },
        "id": "hGeHi2Yf-FnS",
        "outputId": "c84fbd43-acc6-4cee-e675-bfa542c16aef"
      },
      "outputs": [
        {
          "name": "stdout",
          "output_type": "stream",
          "text": [
            " Product: Quad Core Processor with Hyperthreading Technology\n",
            "\n",
            "Essential Features:\n",
            "\n",
            "* Quad core architecture\n",
            "* Hyperthreading technology\n",
            "* 3.6 GHz clock speed\n",
            "* 22nm process technology\n",
            "* 8MB L3 cache\n",
            "* Dual channel DDR3 controller\n",
            "* Integrated HD 4600 graphics\n",
            "\n",
            "Specifications:\n",
            "\n",
            "* Clock Speed: 3.6 GHz\n",
            "* Number of Cores: 4\n",
            "* Cache Memory: 8 MB L3 cache\n",
            "* Process Technology: 22nm\n",
            "* Memory Controller: Dual Channel DDR3\n",
            "* Graphics: Integrated HD 4600\n",
            "\n",
            "Unique Aspects:\n",
            "\n",
            "* Hyperthreading technology allows for increased parallel processing capabilities, resulting in improved performance and efficiency.\n",
            "* The 22nm process technology used in this processor results in lower power consumption and heat generation compared to older processes.\n",
            "* The integrated HD 4600 graphics provide decent graphical performance for general use cases, eliminating the need for a separate graphics card in many situations.\n",
            "\n",
            "Summary:\n",
            "This quad core processor with hyperthreading technology offers excellent performance and energy efficiency due to its 22nm process technology. It also features a high clock speed, large L3 cache, and dual channel DDR3 memory controller, making it suitable for demanding tasks. Additionally, the integrated HD 4600 graphics provide adequate visual performance for most applications, and the 3-year warranty provides peace of mind. Overall, this processor offers great value for those seeking a powerful yet efficient solution.\n"
          ]
        }
      ],
      "source": [
        "query_1 = CHATBOT.query(model_prompt + positive3['description_left'])\n",
        "print(query_1)"
      ]
    },
    {
      "cell_type": "code",
      "execution_count": 30,
      "metadata": {
        "colab": {
          "base_uri": "https://localhost:8080/"
        },
        "id": "e3_TdIJv-ZqZ",
        "outputId": "b0b92d96-d040-44b6-ffa9-23dfdfe55dff"
      },
      "outputs": [
        {
          "name": "stdout",
          "output_type": "stream",
          "text": [
            " Product: Micro Intel i7 4790 LGA 1150 Quad Core 3.6GHz 8MB\n",
            "\n",
            "Essential Features:\n",
            "\n",
            "* CPU processor: Intel Core i7-4790\n",
            "* Socket type: LGA 1150\n",
            "* Number of cores: Quad-core\n",
            "* Clock speed: 3.6 GHz\n",
            "* Cache memory: 8 MB\n",
            "\n",
            "Specifications:\n",
            "\n",
            "* Processor architecture: Haswell\n",
            "* Thermal Design Power (TDP): 84W\n",
            "* Memory support: DDR3L-1333/1600, DDR3-1066/1333\n",
            "* Integrated graphics: HD Graphics 4600\n",
            "* PCI Express lanes: 16\n",
            "\n",
            "Unique Aspects:\n",
            "\n",
            "* High-performance quad-core processor for demanding tasks\n",
            "* Supports up to 32GB of RAM for efficient multitasking\n",
            "* Integrated graphics card for improved visual performance\n",
            "* Low power consumption with a TDP of 84W\n",
            "\n",
            "Summary:\n",
            "The Micro Intel i7 4790 LGA 1150 Quad Core 3.6GHz 8MB is a powerful processor designed for high-performance computing. It features a quad-core design, 8MB of cache memory, and supports up to 32GB of RAM. With integrated graphics and low power consumption, this processor offers excellent performance while minimizing energy usage. Ideal for demanding applications such as video editing, 3D modeling, and gaming.\n"
          ]
        }
      ],
      "source": [
        "query_2 = query_wrapper(model_prompt + positive3['description_right'])\n",
        "print(query_2)"
      ]
    },
    {
      "cell_type": "code",
      "execution_count": null,
      "metadata": {
        "colab": {
          "base_uri": "https://localhost:8080/"
        },
        "id": "ZBwz926v_CHJ",
        "outputId": "1561a305-1120-4396-952f-e9f8a334c66c"
      },
      "outputs": [
        {
          "data": {
            "text/plain": [
              "tensor(0.8258, device='cuda:0', grad_fn=<SumBackward1>)"
            ]
          },
          "execution_count": 80,
          "metadata": {},
          "output_type": "execute_result"
        }
      ],
      "source": [
        "sim.similarity(str(query_1), str(query_2))"
      ]
    },
    {
      "cell_type": "markdown",
      "metadata": {},
      "source": [
        "Similar items in dataset have lower similarity than non similar in the previous examples."
      ]
    },
    {
      "cell_type": "code",
      "execution_count": null,
      "metadata": {
        "id": "4GxZGkbXAP3F"
      },
      "outputs": [],
      "source": [
        "query_3 = query_wrapper(model_prompt + negative['description_right'])"
      ]
    },
    {
      "cell_type": "code",
      "execution_count": null,
      "metadata": {
        "colab": {
          "base_uri": "https://localhost:8080/"
        },
        "id": "vA1raHRW_6Ss",
        "outputId": "55f10c7e-1cd3-45cf-8174-78d7560d179d"
      },
      "outputs": [
        {
          "name": "stdout",
          "output_type": "stream",
          "text": [
            " Product: ASRock 990FX Extreme4 Motherboard\n",
            "\n",
            "Essential Features:\n",
            "\n",
            "* AMD 990FX Chipset\n",
            "* Supports AM3+ CPUs\n",
            "* 4 DDR3 slots, supporting up to 32GB RAM\n",
            "* 3 PCI-Express 3.0 x16 slots (x16, x8, x4)\n",
            "* 1 PCI-Express 2.0 x1 slot\n",
            "* 2 PCI slots\n",
            "* SATA 6Gb/s ports (6 ports)\n",
            "* Gigabit LAN\n",
            "* 2 USB 3.0 ports\n",
            "* 14 USB 2.0 ports\n",
            "* Realtek HD Audio 7.1 channel audio\n",
            "* SLI and CrossFireX support\n",
            "\n",
            "Unique Aspects:\n",
            "\n",
            "* High-quality audio capacitors for improved sound quality\n",
            "* Dual-Stack MOSFET design for better power delivery and lower temperatures\n",
            "* 8-layer PCB for improved signal integrity and reduced noise\n",
            "* Supports 3-Way SLI and Quad-GPU CrossFireX configurations\n",
            "* Bundled with ASRock's XFast LAN software for improved network performance\n",
            "\n",
            "Overall, the ASRock 990FX Extreme4 motherboard offers robust features and high-performance capabilities, making it an excellent choice for gaming enthusiasts and overclockers who demand fast processing speeds, ample storage options, and advanced connectivity. Its premium components and thoughtful design make it a solid investment for those seeking a reliable and powerful platform for their AM3+ processor.\n"
          ]
        }
      ],
      "source": [
        "print(query_3)"
      ]
    },
    {
      "cell_type": "code",
      "execution_count": null,
      "metadata": {
        "colab": {
          "base_uri": "https://localhost:8080/"
        },
        "id": "BbBAiN1jAEfw",
        "outputId": "81b91798-c85e-4f9c-acfb-8bfbf097b5d0"
      },
      "outputs": [
        {
          "name": "stdout",
          "output_type": "stream",
          "text": [
            " Product: AMD Ryzen 9 5900X\n",
            "\n",
            "Essential Features:\n",
            "\n",
            "* 16-core, 32-thread processor\n",
            "* 50GHz clock speed\n",
            "* 6MB L2 cache\n",
            "* 6MB L3 cache\n",
            "* HyperTransport 3.0 technology\n",
            "* 3-year warranty\n",
            "\n",
            "Unique Aspects:\n",
            "\n",
            "* Unlocked multiplier for overclocking capabilities\n",
            "* Highest clock speed in its class (50GHz)\n",
            "* Large L2 and L3 caches for improved performance\n",
            "* Advanced HyperTransport 3.0 technology for increased bandwidth and low latency\n",
            "\n",
            "Summary: The AMD Ryzen 9 5900X is a high-performance desktop processor that offers 16 cores and 32 threads, with an impressive clock speed of 50GHz and large L2 and L3 caches. It also features advanced HyperTransport 3.0 technology and comes with a 3-year warranty. Its unlocked multiplier allows for overclocking, making it an attractive option for enthusiasts looking to push their system to the limit.\n"
          ]
        }
      ],
      "source": [
        "query_4 = query_wrapper(model_prompt + negative['description_left'])\n",
        "print(query_4)"
      ]
    },
    {
      "cell_type": "code",
      "execution_count": null,
      "metadata": {
        "colab": {
          "base_uri": "https://localhost:8080/"
        },
        "id": "RUuCPLlR_lOo",
        "outputId": "8850decf-3197-42b2-ab1c-1a433b1ef2e3"
      },
      "outputs": [
        {
          "data": {
            "text/plain": [
              "tensor(0.9800, device='cuda:0', grad_fn=<SumBackward1>)"
            ]
          },
          "execution_count": 93,
          "metadata": {},
          "output_type": "execute_result"
        }
      ],
      "source": [
        "sim.similarity(str(query_3), str(query_4))"
      ]
    },
    {
      "cell_type": "markdown",
      "metadata": {},
      "source": [
        "Higher scores with the negative class than positive, which means we need to investigate it. However when runing it wrapped like below, it is a significantly dissimilar example."
      ]
    },
    {
      "cell_type": "code",
      "execution_count": 32,
      "metadata": {
        "colab": {
          "base_uri": "https://localhost:8080/"
        },
        "id": "nF7Ec_E_Wnrq",
        "outputId": "b28c6a7d-cae8-4589-bcda-4c51645833f9"
      },
      "outputs": [
        {
          "data": {
            "text/plain": [
              "tensor(0.5025, grad_fn=<SumBackward1>)"
            ]
          },
          "execution_count": 32,
          "metadata": {},
          "output_type": "execute_result"
        }
      ],
      "source": [
        "pair = negative\n",
        "poc(sim, pair['title_left'], pair['description_left'], pair['title_right'], pair['description_right'], model_prompt)"
      ]
    },
    {
      "cell_type": "markdown",
      "metadata": {},
      "source": [
        "Some items descriptions have Nones instead of text, which need to be handled somehow."
      ]
    },
    {
      "cell_type": "code",
      "execution_count": 34,
      "metadata": {
        "colab": {
          "base_uri": "https://localhost:8080/",
          "height": 322
        },
        "id": "izOqFbKuXT7g",
        "outputId": "3badb72b-c3be-42a2-c6aa-bb4eddc56816"
      },
      "outputs": [
        {
          "ename": "TypeError",
          "evalue": "ignored",
          "output_type": "error",
          "traceback": [
            "\u001b[0;31m---------------------------------------------------------------------------\u001b[0m",
            "\u001b[0;31mTypeError\u001b[0m                                 Traceback (most recent call last)",
            "\u001b[0;32m<ipython-input-34-ef6383897f5c>\u001b[0m in \u001b[0;36m<cell line: 2>\u001b[0;34m()\u001b[0m\n\u001b[1;32m      1\u001b[0m \u001b[0mpair\u001b[0m \u001b[0;34m=\u001b[0m \u001b[0mpositive\u001b[0m\u001b[0;34m\u001b[0m\u001b[0;34m\u001b[0m\u001b[0m\n\u001b[0;32m----> 2\u001b[0;31m \u001b[0mpoc\u001b[0m\u001b[0;34m(\u001b[0m\u001b[0msim\u001b[0m\u001b[0;34m,\u001b[0m \u001b[0mpair\u001b[0m\u001b[0;34m[\u001b[0m\u001b[0;34m'title_left'\u001b[0m\u001b[0;34m]\u001b[0m\u001b[0;34m,\u001b[0m \u001b[0mpair\u001b[0m\u001b[0;34m[\u001b[0m\u001b[0;34m'description_left'\u001b[0m\u001b[0;34m]\u001b[0m\u001b[0;34m,\u001b[0m \u001b[0mpair\u001b[0m\u001b[0;34m[\u001b[0m\u001b[0;34m'title_right'\u001b[0m\u001b[0;34m]\u001b[0m\u001b[0;34m,\u001b[0m \u001b[0mpair\u001b[0m\u001b[0;34m[\u001b[0m\u001b[0;34m'description_right'\u001b[0m\u001b[0;34m]\u001b[0m\u001b[0;34m,\u001b[0m \u001b[0mmodel_prompt\u001b[0m\u001b[0;34m)\u001b[0m\u001b[0;34m\u001b[0m\u001b[0;34m\u001b[0m\u001b[0m\n\u001b[0m",
            "\u001b[0;32m<ipython-input-26-5690170faf5f>\u001b[0m in \u001b[0;36mpoc\u001b[0;34m(similarity, title_left, description_left, title_right, description_right, prompt)\u001b[0m\n\u001b[1;32m     16\u001b[0m \u001b[0;34m\u001b[0m\u001b[0m\n\u001b[1;32m     17\u001b[0m \u001b[0;32mdef\u001b[0m \u001b[0mpoc\u001b[0m\u001b[0;34m(\u001b[0m\u001b[0msimilarity\u001b[0m\u001b[0;34m,\u001b[0m \u001b[0mtitle_left\u001b[0m\u001b[0;34m,\u001b[0m \u001b[0mdescription_left\u001b[0m\u001b[0;34m,\u001b[0m \u001b[0mtitle_right\u001b[0m\u001b[0;34m,\u001b[0m \u001b[0mdescription_right\u001b[0m\u001b[0;34m,\u001b[0m \u001b[0mprompt\u001b[0m\u001b[0;34m)\u001b[0m\u001b[0;34m:\u001b[0m\u001b[0;34m\u001b[0m\u001b[0;34m\u001b[0m\u001b[0m\n\u001b[0;32m---> 18\u001b[0;31m   \u001b[0mquery_left\u001b[0m \u001b[0;34m=\u001b[0m \u001b[0mquery_wrapper\u001b[0m\u001b[0;34m(\u001b[0m\u001b[0mprompt\u001b[0m \u001b[0;34m+\u001b[0m \u001b[0mdescription_left\u001b[0m\u001b[0;34m)\u001b[0m\u001b[0;34m\u001b[0m\u001b[0;34m\u001b[0m\u001b[0m\n\u001b[0m\u001b[1;32m     19\u001b[0m   \u001b[0mquery_right\u001b[0m \u001b[0;34m=\u001b[0m \u001b[0mquery_wrapper\u001b[0m\u001b[0;34m(\u001b[0m\u001b[0mprompt\u001b[0m \u001b[0;34m+\u001b[0m \u001b[0mdescription_right\u001b[0m\u001b[0;34m)\u001b[0m\u001b[0;34m\u001b[0m\u001b[0;34m\u001b[0m\u001b[0m\n\u001b[1;32m     20\u001b[0m   \u001b[0;32mreturn\u001b[0m \u001b[0msimilarity\u001b[0m\u001b[0;34m.\u001b[0m\u001b[0msimilarity\u001b[0m\u001b[0;34m(\u001b[0m\u001b[0mtitle_left\u001b[0m\u001b[0;34m+\u001b[0m\u001b[0mstr\u001b[0m\u001b[0;34m(\u001b[0m\u001b[0mquery_left\u001b[0m\u001b[0;34m)\u001b[0m\u001b[0;34m,\u001b[0m \u001b[0mtitle_right\u001b[0m\u001b[0;34m+\u001b[0m\u001b[0mstr\u001b[0m\u001b[0;34m(\u001b[0m\u001b[0mquery_right\u001b[0m\u001b[0;34m)\u001b[0m\u001b[0;34m)\u001b[0m\u001b[0;34m\u001b[0m\u001b[0;34m\u001b[0m\u001b[0m\n",
            "\u001b[0;31mTypeError\u001b[0m: can only concatenate str (not \"NoneType\") to str"
          ]
        }
      ],
      "source": [
        "pair = positive\n",
        "poc(sim, pair['title_left'], pair['description_left'], pair['title_right'], pair['description_right'], model_prompt)"
      ]
    },
    {
      "cell_type": "markdown",
      "metadata": {},
      "source": [
        "However a positive pair can also have a very low similarity score, which raises many questions."
      ]
    },
    {
      "cell_type": "code",
      "execution_count": 35,
      "metadata": {
        "colab": {
          "base_uri": "https://localhost:8080/"
        },
        "id": "Szp5dCw6XeEI",
        "outputId": "ccd11abd-9903-4949-c117-b5bc041d8e23"
      },
      "outputs": [
        {
          "data": {
            "text/plain": [
              "tensor(0.4874, grad_fn=<SumBackward1>)"
            ]
          },
          "execution_count": 35,
          "metadata": {},
          "output_type": "execute_result"
        }
      ],
      "source": [
        "pair = positive2\n",
        "poc(sim, pair['title_left'], pair['description_left'], pair['title_right'], pair['description_right'], model_prompt)"
      ]
    },
    {
      "cell_type": "code",
      "execution_count": 36,
      "metadata": {
        "colab": {
          "base_uri": "https://localhost:8080/"
        },
        "id": "Zg3kvq5bXk7I",
        "outputId": "a3b89693-855d-45ae-d999-bc526ac339b1"
      },
      "outputs": [
        {
          "data": {
            "text/plain": [
              "tensor(0.9090, grad_fn=<SumBackward1>)"
            ]
          },
          "execution_count": 36,
          "metadata": {},
          "output_type": "execute_result"
        }
      ],
      "source": [
        "pair = positive3\n",
        "poc(sim, pair['title_left'], pair['description_left'], pair['title_right'], pair['description_right'], model_prompt)"
      ]
    }
  ],
  "metadata": {
    "colab": {
      "provenance": []
    },
    "kernelspec": {
      "display_name": "Python 3",
      "name": "python3"
    },
    "language_info": {
      "name": "python"
    }
  },
  "nbformat": 4,
  "nbformat_minor": 0
}
